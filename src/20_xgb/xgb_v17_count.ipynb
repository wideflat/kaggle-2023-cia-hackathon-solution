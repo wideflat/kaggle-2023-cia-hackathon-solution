{
 "cells": [
  {
   "cell_type": "markdown",
   "id": "0fb1a34f",
   "metadata": {},
   "source": [
    "# 1. Libraries"
   ]
  },
  {
   "cell_type": "code",
   "execution_count": 1,
   "id": "32234cf9",
   "metadata": {},
   "outputs": [],
   "source": [
    "import pandas as pd\n",
    "import numpy as np\n",
    "import os\n",
    "import math\n",
    "import time\n",
    "import itertools\n",
    "import datetime\n",
    "from datetime import datetime\n",
    "import seaborn as sns\n",
    "\n",
    "import string\n",
    "from wordcloud import STOPWORDS\n",
    "\n",
    "from scipy.stats import skew, boxcox\n",
    "from sklearn import metrics\n",
    "from sklearn.model_selection import train_test_split, GridSearchCV, KFold, StratifiedKFold\n",
    "from sklearn.preprocessing import OneHotEncoder, StandardScaler, LabelEncoder\n",
    "from sklearn.metrics import mean_absolute_error, mean_squared_error\n",
    "\n",
    "# xgboost\n",
    "import xgboost as xgb\n",
    "\n",
    "#Print all rows and columns. Dont hide any\n",
    "pd.set_option('display.max_rows', None)\n",
    "pd.set_option('display.max_columns', None)"
   ]
  },
  {
   "cell_type": "markdown",
   "id": "a6256f88",
   "metadata": {},
   "source": [
    "# 2. Configuration"
   ]
  },
  {
   "cell_type": "code",
   "execution_count": 2,
   "id": "4e7a1563",
   "metadata": {},
   "outputs": [],
   "source": [
    "output_featimp = 'feat_xgb_v17_count.csv'\n",
    "output_sub     = 'sub_xgb_v17_count.csv'\n",
    "output_oof     = 'oof_xgb_v17_count.csv'\n",
    "\n",
    "ID = 'tweet_id'\n",
    "TARGET = 'engagement_count'\n",
    "NFOLDS = 5\n",
    "SEED = 2023\n",
    "NROWS = None\n",
    "DATA_DIR = \"../input\"\n",
    "\n",
    "TRAIN_FILE = \"{0}/expert_training.csv\".format(DATA_DIR)\n",
    "TEST_FILE = \"{0}/expert_testing.csv\".format(DATA_DIR)\n",
    "SUBMISSION_FILE = \"{0}/expert_samplesubmission.csv\".format(DATA_DIR)\n",
    "\n",
    "params = {\n",
    "    'seed': 0,\n",
    "    'booster': 'gbtree', # gbtree, gblinear or dart\n",
    "    'objective': 'count:poisson', # count:poisson, reg:linear, reg:squarederror, reg:squaredlogerror, reg:absoluteerror, reg:gamma, reg:tweedie\n",
    "    'learning_rate': 0.01, # default=0.3\n",
    "    'max_depth': 12, # default=6\n",
    "    'min_child_weight': 10, # default=1\n",
    "    'subsample': 0.9, # default=1\n",
    "    'colsample_bytree': 0.8, # default=1\n",
    "#     'gamma': 0, # default=0\n",
    "#     'lambda': 1, # default=1\n",
    "#     'alpha': 0, # default=0\n",
    "    }"
   ]
  },
  {
   "cell_type": "markdown",
   "id": "51cba7b1",
   "metadata": {},
   "source": [
    "# 3. Functions"
   ]
  },
  {
   "cell_type": "code",
   "execution_count": 3,
   "id": "63c45ca7",
   "metadata": {},
   "outputs": [],
   "source": [
    "def rmse(predictions, targets):\n",
    "    return np.sqrt(((predictions - targets) ** 2).mean())\n",
    "\n",
    "def xg_eval_rmse(yhat, dtrain):\n",
    "    y = dtrain.get_label()\n",
    "    return 'rmse', np.sqrt(((yhat - y) ** 2).mean())"
   ]
  },
  {
   "cell_type": "markdown",
   "id": "f4609793",
   "metadata": {},
   "source": [
    "# 4. Data"
   ]
  },
  {
   "cell_type": "code",
   "execution_count": 4,
   "id": "ae05b890",
   "metadata": {},
   "outputs": [
    {
     "name": "stderr",
     "output_type": "stream",
     "text": [
      "C:\\Users\\kkudo\\AppData\\Local\\Temp\\ipykernel_12036\\2301700253.py:17: SettingWithCopyWarning: \n",
      "A value is trying to be set on a copy of a slice from a DataFrame.\n",
      "Try using .loc[row_indexer,col_indexer] = value instead\n",
      "\n",
      "See the caveats in the documentation: https://pandas.pydata.org/pandas-docs/stable/user_guide/indexing.html#returning-a-view-versus-a-copy\n",
      "  train_df['train_test'] = 'train'\n",
      "C:\\Users\\kkudo\\AppData\\Local\\Temp\\ipykernel_12036\\2301700253.py:18: SettingWithCopyWarning: \n",
      "A value is trying to be set on a copy of a slice from a DataFrame.\n",
      "Try using .loc[row_indexer,col_indexer] = value instead\n",
      "\n",
      "See the caveats in the documentation: https://pandas.pydata.org/pandas-docs/stable/user_guide/indexing.html#returning-a-view-versus-a-copy\n",
      "  test_df['train_test']  = 'test'\n"
     ]
    }
   ],
   "source": [
    "# read data\n",
    "train = pd.read_csv(TRAIN_FILE, nrows=NROWS)\n",
    "test = pd.read_csv(TEST_FILE, nrows=NROWS)\n",
    "\n",
    "# fill test target\n",
    "test[TARGET] = 0\n",
    "\n",
    "# name + text\n",
    "train['name_time_text'] = train['screen_name'] + \" \" + train['created_at'] + \" \"  + train['full_text']\n",
    "test['name_time_text']  = test['screen_name']  + \" \" + test['created_at']  + \" \"  + test['full_text']\n",
    "\n",
    "# drop duplicates (the first one will be kept)\n",
    "train_df = train.drop_duplicates(subset=['name_time_text'])\n",
    "test_df  = test.drop_duplicates(subset=['name_time_text'])\n",
    "\n",
    "# train test indicator\n",
    "train_df['train_test'] = 'train'\n",
    "test_df['train_test']  = 'test'\n",
    "\n",
    "# concat\n",
    "train_test_df = pd.concat([train_df, test_df], axis=0)\n",
    "\n",
    "# flag for duplicated one (last one(test) will have \"True\")\n",
    "train_test_df['in_train'] = train_test_df['name_time_text'].duplicated()\n",
    "\n",
    "# add \"in_train\" flag to original test data\n",
    "in_train_df = train_test_df.loc[train_test_df['in_train']]\n",
    "in_train_df = in_train_df[['name_time_text','in_train']]\n",
    "test = test.merge(in_train_df, on='name_time_text', how='left')\n",
    "test['in_train'] = test['in_train'].fillna(False)\n",
    "\n",
    "# set aside train_test_df after removing duplicates (the first one(train) will be kept). It will be used for feature engineering\n",
    "train_test_df = train_test_df[~train_test_df['in_train']]\n",
    "\n",
    "# separate test \"in train' and 'not in train'\n",
    "test_in_train = test[test['in_train']]\n",
    "test_not_in_train = test[~test['in_train']]\n",
    "\n",
    "# get target values from train_df\n",
    "test_in_train = test_in_train.drop([TARGET], axis=1)\n",
    "test_in_train = test_in_train.merge(train_df[['name_time_text',TARGET]], on='name_time_text', how='left')\n",
    "\n",
    "# get # of rows\n",
    "ntrain = train_df.shape[0]\n",
    "ntest = test_not_in_train.shape[0]\n",
    "\n",
    "# drop_index\n",
    "test_not_in_train = test_not_in_train.reset_index(drop=True)\n",
    "train_df = train_df.reset_index(drop=True)\n",
    "\n",
    "# get id and target\n",
    "id_train = train_df[ID]\n",
    "id_test = test_not_in_train[ID]\n",
    "y_train = train_df[TARGET]\n",
    "\n",
    "# make them have the same columns\n",
    "test_not_in_train = test_not_in_train.drop(['in_train'], axis=1)\n",
    "test_not_in_train['train_test'] = 'test'\n",
    "\n",
    "# concatenate train and test\n",
    "train_test = pd.concat([train_df, test_not_in_train]).reset_index(drop=True)"
   ]
  },
  {
   "cell_type": "markdown",
   "id": "24db1f83",
   "metadata": {},
   "source": [
    "# 5. Preprocessing"
   ]
  },
  {
   "cell_type": "markdown",
   "id": "d96dd918",
   "metadata": {},
   "source": [
    "##### train_test:   train does not have duplicates, but test has duplicates\n",
    "##### train_test_df:it does not have duplicates. It will be used for feature engineering"
   ]
  },
  {
   "cell_type": "code",
   "execution_count": 5,
   "id": "f625f391",
   "metadata": {},
   "outputs": [],
   "source": [
    "names = ['songmyeongho1',\n",
    " 'web3_inu',\n",
    " 'ethereum',\n",
    " 'NFTcollector00',\n",
    " 'web3',\n",
    " 'PulsechainCom',\n",
    " 'Bitcoin',\n",
    " 'magicianpromos',\n",
    " 'cryptoBILLnfts',\n",
    " 'cryptopunksnfts',\n",
    " 'cryptoworld_gg',\n",
    " 'russnft',\n",
    " 'Crypto_Inside_',\n",
    " 'DeGodsNFT',\n",
    " 'BabyDogeNFTs',\n",
    " 'CryptoCapo_',\n",
    " 'MrsunNFT',\n",
    " 'kris',\n",
    " 'AnuelNFT',\n",
    " 'cryptocom',\n",
    " 'NftCryptosArt']\n",
    "\n",
    "# train_test.query(f'screen_name in {names}')\n",
    "train_test.loc[train_test['screen_name'].isin(names),'highprofile'] = 1\n",
    "train_test['highprofile'] = train_test['highprofile'].fillna(0)\n",
    "train_test['highprofile'] = train_test['highprofile'].astype(int)\n",
    "\n",
    "train_test_df.loc[train_test_df['screen_name'].isin(names),'highprofile'] = 1\n",
    "train_test_df['highprofile'] = train_test_df['highprofile'].fillna(0)\n",
    "train_test_df['highprofile'] = train_test_df['highprofile'].astype(int)"
   ]
  },
  {
   "cell_type": "code",
   "execution_count": 6,
   "id": "469fe002",
   "metadata": {},
   "outputs": [],
   "source": [
    "X = pd.DataFrame()\n",
    "\n",
    "# screen_name\n",
    "X['highprofile'] = train_test['highprofile']\n",
    "# X['highprofile'] = X['highprofile'].astype(int)\n",
    "\n",
    "## created at\n",
    "# convert 'created_at' from object to datetime\n",
    "train_test['created_at'] = pd.to_datetime(train_test['created_at'])\n",
    "train_test['dayname'] = train_test['created_at'].dt.strftime('%A')\n",
    "train_test['date'] = pd.to_datetime(train_test['created_at']).dt.date\n",
    "train_test['yrmonth'] = (pd.to_datetime(train_test['created_at']).dt.year-2013)*12+pd.to_datetime(train_test['created_at']).dt.month\n",
    "train_test['year'] = pd.to_datetime(train_test['created_at']).dt.year\n",
    "\n",
    "train_test_df['created_at'] = pd.to_datetime(train_test_df['created_at'])\n",
    "train_test_df['dayname'] = train_test_df['created_at'].dt.strftime('%A')\n",
    "train_test_df['date'] = pd.to_datetime(train_test_df['created_at']).dt.date\n",
    "train_test_df['yrmonth'] = (pd.to_datetime(train_test_df['created_at']).dt.year-2013)*12+pd.to_datetime(train_test_df['created_at']).dt.month\n",
    "train_test_df['year'] = pd.to_datetime(train_test_df['created_at']).dt.year\n",
    "\n",
    "\n",
    "# ymd\n",
    "X['created_at_year'] = pd.to_datetime(train_test['created_at']).dt.year\n",
    "X['created_at_month'] = pd.to_datetime(train_test['created_at']).dt.month\n",
    "X['created_at_yrmonth'] = (pd.to_datetime(train_test['created_at']).dt.year-2013)*12+pd.to_datetime(train_test['created_at']).dt.month\n",
    "\n",
    "# day name\n",
    "tmp = pd.get_dummies(train_test['dayname'], prefix='dayname', prefix_sep='_')\n",
    "X = pd.concat([X, tmp], axis=1)\n",
    "\n",
    "# le = LabelEncoder()\n",
    "# X['dayname']= le.fit_transform(train_test['dayname'])\n",
    "\n",
    "\n",
    "## full text\n",
    "# count of words\n",
    "X['count_words'] = train_test['full_text'].str.split().map(lambda x: len(x))\n",
    "\n",
    "# count of characters\n",
    "X['count_chars'] = train_test['full_text'].str.len()\n",
    "\n",
    "# count of unique workds\n",
    "X['unique_word_count'] = train_test['full_text'].apply(lambda x: len(set(str(x).split())))\n",
    "\n",
    "# count of stop word\n",
    "X['stop_word_count'] = train_test['full_text'].apply(lambda x: len([w for w in str(x).lower().split() if w in STOPWORDS]))\n",
    "\n",
    "# url_count\n",
    "X['url_count'] = train_test['full_text'].apply(lambda x: len([w for w in str(x).lower().split() if 'http' in w or 'https' in w]))\n",
    "\n",
    "# mean_word_length\n",
    "X['mean_word_length'] = train_test['full_text'].apply(lambda x: np.mean([len(w) for w in str(x).split()]))\n",
    "\n",
    "# punctuation_count\n",
    "X['punctuation_count'] = train_test['full_text'].apply(lambda x: len([c for c in str(x) if c in string.punctuation]))\n",
    "\n",
    "# hashtag_count\n",
    "X['hashtag_count'] = train_test['full_text'].apply(lambda x: len([c for c in str(x) if c == '#']))\n",
    "\n",
    "# mention_count\n",
    "X['mention_count'] = train_test['full_text'].apply(lambda x: len([c for c in str(x) if c == '@']))\n",
    "\n",
    "\n",
    "## tweet frequency - for aggregation, make sure to use \"train_test_df\" (not \"train_test\")\n",
    "# same day\n",
    "tmp = train_test_df.groupby(['screen_name','date'])['full_text'].count().reset_index()\n",
    "tmp = tmp.rename(columns={\"full_text\": \"tweet_count_same_day\"})\n",
    "tmp.head()\n",
    "\n",
    "train_test = train_test.merge(tmp, how='left', on=['screen_name','date'])\n",
    "train_test['tweet_count_same_day'] = train_test['tweet_count_same_day'].fillna(0)\n",
    "X['tweet_count_same_day'] = train_test['tweet_count_same_day']\n",
    "\n",
    "# same month\n",
    "tmp = train_test_df.groupby(['screen_name','yrmonth'])['full_text'].count().reset_index()\n",
    "tmp = tmp.rename(columns={'full_text': 'tweet_count_same_month'})\n",
    "tmp.head()\n",
    "\n",
    "train_test = train_test.merge(tmp, how='left', on=['screen_name','yrmonth'])\n",
    "train_test['tweet_count_same_month'] = train_test['tweet_count_same_month'].fillna(0)\n",
    "X['tweet_count_same_month'] = train_test['tweet_count_same_month']\n",
    "\n",
    "# same year\n",
    "tmp = train_test_df.groupby(['screen_name','year'])['full_text'].count().reset_index()\n",
    "tmp = tmp.rename(columns={'full_text': 'tweet_count_same_year'})\n",
    "tmp.head()\n",
    "\n",
    "train_test = train_test.merge(tmp, how='left', on=['screen_name','year'])\n",
    "train_test['tweet_count_same_yearonth'] = train_test['tweet_count_same_year'].fillna(0)\n",
    "X['tweet_count_same_year'] = train_test['tweet_count_same_year']\n",
    "\n",
    "\n",
    "## display_text_range\n",
    "X['display_text_range'] = train_test['display_text_range']\n",
    "# X['display_text_range_bin'] = pd.cut(train_test['display_text_range'], bins=10, labels=False)\n",
    "\n",
    "## in_reply_to_screen_name\n",
    "X['in_reply_to_screen_name_flg'] = train_test['in_reply_to_screen_name'].apply(lambda x : 0 if x is np.nan else 1)\n",
    "\n",
    "\n",
    "## is_quote_status\n",
    "X['is_quote_status'] = train_test['is_quote_status'].apply(lambda x : 1 if x else 0)\n",
    "\n",
    "\n",
    "## includes_media\n",
    "X['includes_media'] = train_test['includes_media'].apply(lambda x : 1 if x else 0)\n",
    "\n",
    "\n",
    "## hashtags\n",
    "#X['hashtag_count'] = len(train_test['hashtags'].split(', '))\n",
    "X['hashtag_Bitcoin'] = train_test['hashtags'].str.contains('Bitcoin')\n",
    "X['hashtag_Bitcoin'] = X['hashtag_Bitcoin'].apply(lambda x : 1 if x else 0)\n",
    "\n",
    "X['hashtag_Crypto'] = train_test['hashtags'].str.contains('Crypto')\n",
    "X['hashtag_Crypto'] = X['hashtag_Crypto'].apply(lambda x : 1 if x else 0)\n",
    "\n",
    "\n",
    "## user_mentions\n",
    "X['user_mentions_flg'] = train_test['user_mentions'].apply(lambda x : 0 if x is np.nan else 1)"
   ]
  },
  {
   "cell_type": "code",
   "execution_count": 7,
   "id": "5779dc0e",
   "metadata": {},
   "outputs": [],
   "source": [
    "# sentimental analysis scores\n",
    "sent = pd.read_csv('../00_SentimentAnalysis/sentiment_analysis_scores3.csv', nrows=NROWS)\n",
    "\n",
    "train_test = train_test.merge(sent, on='tweet_id', how='left')\n",
    "X['sent_score'] = train_test['sent_score']\n",
    "X['sent_label_NEG'] = train_test['sent_label_NEG']\n",
    "X['sent_label_NEU'] = train_test['sent_label_NEU']\n",
    "X['sent_label_POS'] = train_test['sent_label_POS']"
   ]
  },
  {
   "cell_type": "code",
   "execution_count": 8,
   "id": "5a1de7be",
   "metadata": {},
   "outputs": [],
   "source": [
    "# followers\n",
    "fol = pd.read_csv('../00_EDA/screen_names_followers.csv', nrows=NROWS)\n",
    "\n",
    "train_test = train_test.merge(fol, on='screen_name', how='left')\n",
    "X['followers'] = train_test['followers']"
   ]
  },
  {
   "cell_type": "code",
   "execution_count": 9,
   "id": "38d91e24",
   "metadata": {},
   "outputs": [],
   "source": [
    "# separate train and test\n",
    "x_train = X.iloc[:ntrain,:]\n",
    "x_test = X.iloc[ntrain:,:]"
   ]
  },
  {
   "cell_type": "code",
   "execution_count": 10,
   "id": "ef6b556d",
   "metadata": {},
   "outputs": [
    {
     "name": "stderr",
     "output_type": "stream",
     "text": [
      "C:\\Users\\kkudo\\AppData\\Local\\Temp\\ipykernel_12036\\1776465337.py:31: SettingWithCopyWarning: \n",
      "A value is trying to be set on a copy of a slice from a DataFrame.\n",
      "Try using .loc[row_indexer,col_indexer] = value instead\n",
      "\n",
      "See the caveats in the documentation: https://pandas.pydata.org/pandas-docs/stable/user_guide/indexing.html#returning-a-view-versus-a-copy\n",
      "  x_train['oof_screen_name'] = oof_train\n",
      "C:\\Users\\kkudo\\AppData\\Local\\Temp\\ipykernel_12036\\1776465337.py:32: SettingWithCopyWarning: \n",
      "A value is trying to be set on a copy of a slice from a DataFrame.\n",
      "Try using .loc[row_indexer,col_indexer] = value instead\n",
      "\n",
      "See the caveats in the documentation: https://pandas.pydata.org/pandas-docs/stable/user_guide/indexing.html#returning-a-view-versus-a-copy\n",
      "  x_test['oof_screen_name'] = oof_test\n"
     ]
    }
   ],
   "source": [
    "## OOF target\n",
    "oof_nfolds = 10\n",
    "\n",
    "kfold = KFold(n_splits=oof_nfolds, random_state=SEED, shuffle=True)\n",
    "\n",
    "oof_train = np.zeros((ntrain,))\n",
    "oof_test = np.zeros((ntest,))\n",
    "oof_test_skf = np.empty((oof_nfolds, ntest))\n",
    "\n",
    "\n",
    "for fold_id, (train_idx, valid_idx) in enumerate(kfold.split(train_df)):\n",
    "    tr_df = train_df.iloc[train_idx]\n",
    "    vl_df = train_df.iloc[valid_idx]\n",
    "    \n",
    "    # screen_name\n",
    "    tmp = tr_df.groupby(['screen_name'])[TARGET].mean()\n",
    "    tmp = pd.DataFrame(tmp).reset_index().rename(columns={TARGET: 'oof_screen_name'})\n",
    "    tmp_mean = tr_df[TARGET].mean()\n",
    "    \n",
    "    a = vl_df[[ID,'screen_name']].merge(tmp, on='screen_name', how='left')\n",
    "    a['oof_screen_name'] = a['oof_screen_name'].fillna(tmp_mean)\n",
    "    oof_train[valid_idx] = a['oof_screen_name']\n",
    "    \n",
    "    a = test_not_in_train[[ID,'screen_name']].merge(tmp, on='screen_name', how='left')\n",
    "    a['oof_screen_name'] = a['oof_screen_name'].fillna(tmp_mean)\n",
    "    oof_test_skf[fold_id, :] = a['oof_screen_name']\n",
    "    \n",
    "oof_test[:] = oof_test_skf.mean(axis=0)\n",
    "\n",
    "\n",
    "x_train['oof_screen_name'] = oof_train\n",
    "x_test['oof_screen_name'] = oof_test"
   ]
  },
  {
   "cell_type": "markdown",
   "id": "b88281f5",
   "metadata": {},
   "source": [
    "# 5. Cross Validation"
   ]
  },
  {
   "cell_type": "code",
   "execution_count": 11,
   "id": "a5f93b3d",
   "metadata": {
    "scrolled": false
   },
   "outputs": [
    {
     "name": "stdout",
     "output_type": "stream",
     "text": [
      "\n",
      "Fold 1 / 5\n",
      "[0]\ttrain-poisson-nloglik:946.01400\ttrain-rmse:1042.55688\teval-poisson-nloglik:929.87290\teval-rmse:823.11078\n"
     ]
    },
    {
     "name": "stderr",
     "output_type": "stream",
     "text": [
      "D:\\Programs\\anaconda3\\lib\\site-packages\\sklearn\\model_selection\\_split.py:676: UserWarning: The least populated class in y has only 1 members, which is less than n_splits=5.\n",
      "  warnings.warn(\n"
     ]
    },
    {
     "name": "stdout",
     "output_type": "stream",
     "text": [
      "[100]\ttrain-poisson-nloglik:855.24648\ttrain-rmse:1042.49341\teval-poisson-nloglik:840.16378\teval-rmse:823.03131\n",
      "[200]\ttrain-poisson-nloglik:764.97765\ttrain-rmse:1042.36633\teval-poisson-nloglik:750.96304\teval-rmse:822.87231\n",
      "[300]\ttrain-poisson-nloglik:675.48979\ttrain-rmse:1042.11279\teval-poisson-nloglik:662.65871\teval-rmse:822.55518\n",
      "[400]\ttrain-poisson-nloglik:587.43756\ttrain-rmse:1041.61047\teval-poisson-nloglik:575.89230\teval-rmse:821.92804\n",
      "[500]\ttrain-poisson-nloglik:501.42448\ttrain-rmse:1040.62292\teval-poisson-nloglik:491.67570\teval-rmse:820.70367\n",
      "[600]\ttrain-poisson-nloglik:418.43643\ttrain-rmse:1038.70727\teval-poisson-nloglik:411.02405\teval-rmse:818.34729\n",
      "[700]\ttrain-poisson-nloglik:339.75517\ttrain-rmse:1035.05066\teval-poisson-nloglik:335.65342\teval-rmse:813.92297\n",
      "[800]\ttrain-poisson-nloglik:266.84319\ttrain-rmse:1028.25195\teval-poisson-nloglik:267.07693\teval-rmse:805.83167\n",
      "[900]\ttrain-poisson-nloglik:201.44587\ttrain-rmse:1015.96143\teval-poisson-nloglik:207.50116\teval-rmse:791.64825\n",
      "[1000]\ttrain-poisson-nloglik:144.79086\ttrain-rmse:994.61096\teval-poisson-nloglik:160.74026\teval-rmse:769.55780\n",
      "[1100]\ttrain-poisson-nloglik:98.15927\ttrain-rmse:959.37128\teval-poisson-nloglik:125.36912\teval-rmse:736.42602\n",
      "[1200]\ttrain-poisson-nloglik:62.89125\ttrain-rmse:906.54419\teval-poisson-nloglik:104.01289\teval-rmse:698.30121\n",
      "[1300]\ttrain-poisson-nloglik:39.28692\ttrain-rmse:836.30975\teval-poisson-nloglik:93.60913\teval-rmse:667.78052\n",
      "[1400]\ttrain-poisson-nloglik:24.55769\ttrain-rmse:750.03186\teval-poisson-nloglik:88.07121\teval-rmse:647.35187\n",
      "[1500]\ttrain-poisson-nloglik:15.89813\ttrain-rmse:648.57678\teval-poisson-nloglik:84.39363\teval-rmse:629.96753\n",
      "[1600]\ttrain-poisson-nloglik:10.39770\ttrain-rmse:507.34226\teval-poisson-nloglik:83.05154\teval-rmse:621.31342\n",
      "[1700]\ttrain-poisson-nloglik:7.41818\ttrain-rmse:332.91827\teval-poisson-nloglik:82.47501\teval-rmse:616.85730\n",
      "[1800]\ttrain-poisson-nloglik:6.17853\ttrain-rmse:215.78778\teval-poisson-nloglik:82.34428\teval-rmse:614.75421\n",
      "[1868]\ttrain-poisson-nloglik:5.66470\ttrain-rmse:163.55917\teval-poisson-nloglik:82.54192\teval-rmse:614.90961\n"
     ]
    },
    {
     "name": "stderr",
     "output_type": "stream",
     "text": [
      "D:\\Programs\\anaconda3\\lib\\site-packages\\xgboost\\core.py:90: UserWarning: ntree_limit is deprecated, use `iteration_range` or model slicing instead.\n",
      "  warnings.warn(\n"
     ]
    },
    {
     "name": "stdout",
     "output_type": "stream",
     "text": [
      "\n",
      "Fold 2 / 5\n",
      "[0]\ttrain-poisson-nloglik:954.24744\ttrain-rmse:1059.15625\teval-poisson-nloglik:896.94325\teval-rmse:733.46027\n",
      "[100]\ttrain-poisson-nloglik:863.04136\ttrain-rmse:1059.09338\teval-poisson-nloglik:809.39119\teval-rmse:733.37335\n",
      "[200]\ttrain-poisson-nloglik:772.31364\ttrain-rmse:1058.96765\teval-poisson-nloglik:722.27470\teval-rmse:733.19910\n",
      "[300]\ttrain-poisson-nloglik:682.39126\ttrain-rmse:1058.71667\teval-poisson-nloglik:636.20350\teval-rmse:732.85266\n",
      "[400]\ttrain-poisson-nloglik:593.88487\ttrain-rmse:1058.21973\teval-poisson-nloglik:551.67556\teval-rmse:732.16864\n",
      "[500]\ttrain-poisson-nloglik:507.44971\ttrain-rmse:1057.24231\teval-poisson-nloglik:469.74923\teval-rmse:730.83496\n",
      "[600]\ttrain-poisson-nloglik:423.99492\ttrain-rmse:1055.34509\teval-poisson-nloglik:392.09795\teval-rmse:728.29706\n",
      "[700]\ttrain-poisson-nloglik:344.83165\ttrain-rmse:1051.71997\teval-poisson-nloglik:319.41653\teval-rmse:723.53143\n",
      "[800]\ttrain-poisson-nloglik:271.46684\ttrain-rmse:1044.97656\teval-poisson-nloglik:254.37763\teval-rmse:714.92035\n",
      "[900]\ttrain-poisson-nloglik:205.66595\ttrain-rmse:1032.78931\teval-poisson-nloglik:198.31929\teval-rmse:699.93982\n",
      "[1000]\ttrain-poisson-nloglik:148.55767\ttrain-rmse:1011.57343\teval-poisson-nloglik:154.55742\teval-rmse:676.31677\n",
      "[1100]\ttrain-poisson-nloglik:100.59846\ttrain-rmse:975.87067\teval-poisson-nloglik:125.25436\teval-rmse:645.24616\n",
      "[1200]\ttrain-poisson-nloglik:64.01607\ttrain-rmse:921.54462\teval-poisson-nloglik:108.83609\teval-rmse:613.89477\n",
      "[1300]\ttrain-poisson-nloglik:39.86502\ttrain-rmse:849.98053\teval-poisson-nloglik:102.22327\teval-rmse:593.86975\n",
      "[1400]\ttrain-poisson-nloglik:24.76132\ttrain-rmse:760.92188\teval-poisson-nloglik:99.76394\teval-rmse:584.62250\n",
      "[1500]\ttrain-poisson-nloglik:15.81361\ttrain-rmse:655.53796\teval-poisson-nloglik:99.48150\teval-rmse:581.42377\n",
      "[1584]\ttrain-poisson-nloglik:11.00594\ttrain-rmse:541.04688\teval-poisson-nloglik:99.84160\teval-rmse:581.18719\n"
     ]
    },
    {
     "name": "stderr",
     "output_type": "stream",
     "text": [
      "D:\\Programs\\anaconda3\\lib\\site-packages\\xgboost\\core.py:90: UserWarning: ntree_limit is deprecated, use `iteration_range` or model slicing instead.\n",
      "  warnings.warn(\n"
     ]
    },
    {
     "name": "stdout",
     "output_type": "stream",
     "text": [
      "\n",
      "Fold 3 / 5\n",
      "[0]\ttrain-poisson-nloglik:973.95698\ttrain-rmse:1075.60498\teval-poisson-nloglik:818.10100\teval-rmse:630.48169\n",
      "[100]\ttrain-poisson-nloglik:881.34727\ttrain-rmse:1075.54224\teval-poisson-nloglik:735.80276\teval-rmse:630.38654\n",
      "[200]\ttrain-poisson-nloglik:789.22612\ttrain-rmse:1075.41638\teval-poisson-nloglik:654.01012\teval-rmse:630.19611\n",
      "[300]\ttrain-poisson-nloglik:697.88364\ttrain-rmse:1075.16553\teval-poisson-nloglik:573.12446\teval-rmse:629.81683\n",
      "[400]\ttrain-poisson-nloglik:607.97758\ttrain-rmse:1074.66846\teval-poisson-nloglik:493.76804\teval-rmse:629.06769\n",
      "[500]\ttrain-poisson-nloglik:520.11780\ttrain-rmse:1073.69092\teval-poisson-nloglik:416.90905\teval-rmse:627.60779\n",
      "[600]\ttrain-poisson-nloglik:435.28203\ttrain-rmse:1071.79285\teval-poisson-nloglik:344.08342\teval-rmse:624.83008\n",
      "[700]\ttrain-poisson-nloglik:354.79125\ttrain-rmse:1068.16650\teval-poisson-nloglik:276.73214\teval-rmse:619.66486\n",
      "[800]\ttrain-poisson-nloglik:279.88085\ttrain-rmse:1061.39087\teval-poisson-nloglik:217.26362\teval-rmse:610.46991\n",
      "[900]\ttrain-poisson-nloglik:212.42180\ttrain-rmse:1049.08936\teval-poisson-nloglik:166.46010\teval-rmse:594.60260\n",
      "[1000]\ttrain-poisson-nloglik:153.74895\ttrain-rmse:1027.59253\teval-poisson-nloglik:128.35437\teval-rmse:570.73724\n",
      "[1100]\ttrain-poisson-nloglik:104.46181\ttrain-rmse:991.31867\teval-poisson-nloglik:102.55931\teval-rmse:539.11029\n",
      "[1200]\ttrain-poisson-nloglik:66.89738\ttrain-rmse:936.13245\teval-poisson-nloglik:89.43808\teval-rmse:509.19919\n",
      "[1300]\ttrain-poisson-nloglik:41.48659\ttrain-rmse:861.69904\teval-poisson-nloglik:85.11644\teval-rmse:494.79648\n",
      "[1400]\ttrain-poisson-nloglik:25.50105\ttrain-rmse:769.52289\teval-poisson-nloglik:82.53586\teval-rmse:486.13391\n",
      "[1500]\ttrain-poisson-nloglik:16.15279\ttrain-rmse:662.86114\teval-poisson-nloglik:81.64925\teval-rmse:481.94748\n",
      "[1600]\ttrain-poisson-nloglik:10.41340\ttrain-rmse:519.02441\teval-poisson-nloglik:81.54553\teval-rmse:480.87518\n",
      "[1700]\ttrain-poisson-nloglik:7.33972\ttrain-rmse:347.18051\teval-poisson-nloglik:81.76085\teval-rmse:480.55942\n",
      "[1705]\ttrain-poisson-nloglik:7.24623\ttrain-rmse:340.10529\teval-poisson-nloglik:81.79835\teval-rmse:480.62076\n"
     ]
    },
    {
     "name": "stderr",
     "output_type": "stream",
     "text": [
      "D:\\Programs\\anaconda3\\lib\\site-packages\\xgboost\\core.py:90: UserWarning: ntree_limit is deprecated, use `iteration_range` or model slicing instead.\n",
      "  warnings.warn(\n"
     ]
    },
    {
     "name": "stdout",
     "output_type": "stream",
     "text": [
      "\n",
      "Fold 4 / 5\n",
      "[0]\ttrain-poisson-nloglik:893.19680\ttrain-rmse:769.07056\teval-poisson-nloglik:1141.14166\teval-rmse:1630.74622\n",
      "[100]\ttrain-poisson-nloglik:805.78690\ttrain-rmse:768.98767\teval-poisson-nloglik:1038.01607\teval-rmse:1630.70007\n",
      "[200]\ttrain-poisson-nloglik:718.87270\ttrain-rmse:768.82178\teval-poisson-nloglik:935.39691\teval-rmse:1630.60767\n",
      "[300]\ttrain-poisson-nloglik:632.75108\ttrain-rmse:768.49078\teval-poisson-nloglik:833.64910\teval-rmse:1630.42334\n",
      "[400]\ttrain-poisson-nloglik:548.03019\ttrain-rmse:767.83545\teval-poisson-nloglik:733.45069\teval-rmse:1630.05786\n",
      "[500]\ttrain-poisson-nloglik:465.37907\ttrain-rmse:766.54761\teval-poisson-nloglik:635.50716\teval-rmse:1629.33936\n",
      "[600]\ttrain-poisson-nloglik:385.73339\ttrain-rmse:764.05054\teval-poisson-nloglik:541.37618\teval-rmse:1627.95361\n",
      "[700]\ttrain-poisson-nloglik:310.49764\ttrain-rmse:759.29175\teval-poisson-nloglik:452.64811\teval-rmse:1625.33386\n",
      "[800]\ttrain-poisson-nloglik:240.97446\ttrain-rmse:750.44568\teval-poisson-nloglik:370.64283\teval-rmse:1620.49219\n",
      "[900]\ttrain-poisson-nloglik:179.03754\ttrain-rmse:734.45972\teval-poisson-nloglik:298.44920\teval-rmse:1611.97095\n",
      "[1000]\ttrain-poisson-nloglik:125.97164\ttrain-rmse:706.64594\teval-poisson-nloglik:238.05089\teval-rmse:1597.91345\n",
      "[1100]\ttrain-poisson-nloglik:82.16960\ttrain-rmse:659.59815\teval-poisson-nloglik:191.29111\teval-rmse:1576.97217\n",
      "[1200]\ttrain-poisson-nloglik:49.06278\ttrain-rmse:586.23920\teval-poisson-nloglik:162.26598\teval-rmse:1553.80762\n",
      "[1300]\ttrain-poisson-nloglik:27.29583\ttrain-rmse:486.42389\teval-poisson-nloglik:150.67509\teval-rmse:1539.72131\n",
      "[1400]\ttrain-poisson-nloglik:15.19579\ttrain-rmse:368.76514\teval-poisson-nloglik:145.22142\teval-rmse:1531.15259\n",
      "[1500]\ttrain-poisson-nloglik:9.82308\ttrain-rmse:265.65167\teval-poisson-nloglik:145.63484\teval-rmse:1529.57593\n",
      "[1564]\ttrain-poisson-nloglik:7.93871\ttrain-rmse:211.43379\teval-poisson-nloglik:146.53663\teval-rmse:1529.69397\n"
     ]
    },
    {
     "name": "stderr",
     "output_type": "stream",
     "text": [
      "D:\\Programs\\anaconda3\\lib\\site-packages\\xgboost\\core.py:90: UserWarning: ntree_limit is deprecated, use `iteration_range` or model slicing instead.\n",
      "  warnings.warn(\n"
     ]
    },
    {
     "name": "stdout",
     "output_type": "stream",
     "text": [
      "\n",
      "Fold 5 / 5\n",
      "[0]\ttrain-poisson-nloglik:946.51358\ttrain-rmse:1033.47913\teval-poisson-nloglik:927.87467\teval-rmse:867.69550\n",
      "[100]\ttrain-poisson-nloglik:855.72600\ttrain-rmse:1033.41504\teval-poisson-nloglik:838.23395\teval-rmse:867.62012\n",
      "[200]\ttrain-poisson-nloglik:765.41985\ttrain-rmse:1033.28674\teval-poisson-nloglik:749.20121\teval-rmse:867.46954\n",
      "[300]\ttrain-poisson-nloglik:675.89992\ttrain-rmse:1033.03076\teval-poisson-nloglik:661.27293\teval-rmse:867.17017\n",
      "[400]\ttrain-poisson-nloglik:587.72980\ttrain-rmse:1032.52319\teval-poisson-nloglik:575.35325\teval-rmse:866.58227\n",
      "[500]\ttrain-poisson-nloglik:501.72065\ttrain-rmse:1031.52661\teval-poisson-nloglik:492.02520\teval-rmse:865.43793\n",
      "[600]\ttrain-poisson-nloglik:418.72843\ttrain-rmse:1029.59228\teval-poisson-nloglik:412.71628\teval-rmse:863.25153\n",
      "[700]\ttrain-poisson-nloglik:340.00980\ttrain-rmse:1025.89697\teval-poisson-nloglik:338.68263\teval-rmse:859.16077\n",
      "[800]\ttrain-poisson-nloglik:266.93072\ttrain-rmse:1019.00433\teval-poisson-nloglik:274.76505\teval-rmse:852.12390\n",
      "[900]\ttrain-poisson-nloglik:201.48789\ttrain-rmse:1006.55530\teval-poisson-nloglik:222.50356\teval-rmse:840.67102\n",
      "[1000]\ttrain-poisson-nloglik:144.80954\ttrain-rmse:984.86359\teval-poisson-nloglik:183.75527\teval-rmse:823.39484\n",
      "[1100]\ttrain-poisson-nloglik:97.63184\ttrain-rmse:948.50867\teval-poisson-nloglik:155.78958\teval-rmse:799.19965\n",
      "[1200]\ttrain-poisson-nloglik:61.47080\ttrain-rmse:892.65326\teval-poisson-nloglik:141.39078\teval-rmse:776.67017\n",
      "[1300]\ttrain-poisson-nloglik:37.78307\ttrain-rmse:819.83893\teval-poisson-nloglik:134.85721\teval-rmse:762.58960\n",
      "[1400]\ttrain-poisson-nloglik:23.38429\ttrain-rmse:734.06787\teval-poisson-nloglik:131.13919\teval-rmse:748.07739\n",
      "[1500]\ttrain-poisson-nloglik:15.07295\ttrain-rmse:636.82165\teval-poisson-nloglik:129.79658\teval-rmse:738.24066\n",
      "[1600]\ttrain-poisson-nloglik:10.04339\ttrain-rmse:512.79913\teval-poisson-nloglik:129.93638\teval-rmse:736.74616\n",
      "[1700]\ttrain-poisson-nloglik:6.98203\ttrain-rmse:341.72601\teval-poisson-nloglik:130.39787\teval-rmse:736.00885\n",
      "[1759]\ttrain-poisson-nloglik:6.10125\ttrain-rmse:261.43133\teval-poisson-nloglik:130.79777\teval-rmse:736.06690\n"
     ]
    },
    {
     "name": "stderr",
     "output_type": "stream",
     "text": [
      "D:\\Programs\\anaconda3\\lib\\site-packages\\xgboost\\core.py:90: UserWarning: ntree_limit is deprecated, use `iteration_range` or model slicing instead.\n",
      "  warnings.warn(\n"
     ]
    },
    {
     "name": "stdout",
     "output_type": "stream",
     "text": [
      "\n",
      "OOF RMSE: 874.8134\n",
      "OOF RMSE in 0:24069:   199.1369\n",
      "OOF RMSE in 24069:END: 2816.9212\n"
     ]
    }
   ],
   "source": [
    "# modeling with cross validation\n",
    "kfold = StratifiedKFold(n_splits=NFOLDS, random_state=SEED, shuffle=True)\n",
    "\n",
    "oof_train = np.zeros((ntrain,))\n",
    "oof_test = np.zeros((ntest,))\n",
    "oof_test_skf = np.empty((NFOLDS, ntest))\n",
    "\n",
    "feat_imp = np.zeros((NFOLDS,x_train.shape[1]))\n",
    "\n",
    "d_test = xgb.DMatrix(x_test)\n",
    "\n",
    "for fold_id, (train_idx, valid_idx) in enumerate(kfold.split(x_train, y_train)):\n",
    "    \n",
    "    print(\"\\nFold %d / %d\" % (fold_id + 1, NFOLDS))\n",
    "\n",
    "    d_train = xgb.DMatrix(x_train.iloc[train_idx], label=y_train[train_idx])\n",
    "    d_valid = xgb.DMatrix(x_train.iloc[valid_idx], label=y_train[valid_idx])\n",
    "    watchlist = [(d_train, 'train'), (d_valid, 'eval')]\n",
    "\n",
    "    model = xgb.train(params,\n",
    "                      d_train,\n",
    "                      100000,\n",
    "                      evals=watchlist,\n",
    "                      verbose_eval = 100,\n",
    "                      early_stopping_rounds=50,\n",
    "#                       obj=fair_obj,\n",
    "                      custom_metric=xg_eval_rmse)\n",
    "    \n",
    "    oof_train[valid_idx] = model.predict(d_valid, ntree_limit=model.best_ntree_limit)\n",
    "    oof_test_skf[fold_id, :] = model.predict(d_test, ntree_limit=model.best_ntree_limit)\n",
    "\n",
    "    feat_imp_out = model.get_score(importance_type='gain')\n",
    "    for i,x in enumerate(model.get_score(importance_type='gain')):\n",
    "        feat_imp[fold_id,i] = feat_imp_out[x]\n",
    "    \n",
    "oof_test[:] = oof_test_skf.mean(axis=0)\n",
    "\n",
    "# fill negative with 0\n",
    "oof_train[oof_train<0] = 0\n",
    "oof_test[oof_test<0] = 0\n",
    "\n",
    "feat_imp = feat_imp.mean(axis=0)\n",
    "feat_imp = pd.DataFrame(sorted(zip(feat_imp, x_train.columns),reverse = True), columns=['Gain','Feature'])\n",
    "feat_imp.to_csv(output_featimp, index=False)\n",
    "\n",
    "# OOF RMSE\n",
    "print('\\nOOF RMSE: {:.4f}'.format(rmse(oof_train, y_train)))\n",
    "\n",
    "print('OOF RMSE in 0:24069:   {:.4f}'.format(rmse(oof_train[0:24069], y_train[0:24069])))\n",
    "print('OOF RMSE in 24069:END: {:.4f}'.format(rmse(oof_train[24069:], y_train[24069:])))"
   ]
  },
  {
   "cell_type": "code",
   "execution_count": 12,
   "id": "a47d21c3",
   "metadata": {},
   "outputs": [
    {
     "data": {
      "text/plain": [
       "Text(0, 0.5, 'actual')"
      ]
     },
     "execution_count": 12,
     "metadata": {},
     "output_type": "execute_result"
    },
    {
     "data": {
      "image/png": "[encoded data removed]",
      "text/plain": [
       "<Figure size 648x432 with 1 Axes>"
      ]
     },
     "metadata": {
      "needs_background": "light"
     },
     "output_type": "display_data"
    }
   ],
   "source": [
    "# checking actual vs. expected\n",
    "import matplotlib.pyplot as plt\n",
    "\n",
    "fig, ax = plt.subplots(figsize = (9, 6))\n",
    "ax.set_xscale(\"log\")\n",
    "ax.set_yscale(\"log\")\n",
    "\n",
    "plt.scatter(oof_train, y_train)\n",
    "plt.xlabel('pred')\n",
    "plt.ylabel('actual')"
   ]
  },
  {
   "cell_type": "code",
   "execution_count": 13,
   "id": "46dc0f36",
   "metadata": {},
   "outputs": [
    {
     "data": {
      "text/plain": [
       "Text(0, 0.5, 'actual')"
      ]
     },
     "execution_count": 13,
     "metadata": {},
     "output_type": "execute_result"
    },
    {
     "data": {
      "image/png": "[encoded data removed]",
      "text/plain": [
       "<Figure size 648x432 with 1 Axes>"
      ]
     },
     "metadata": {
      "needs_background": "light"
     },
     "output_type": "display_data"
    }
   ],
   "source": [
    "# checking actual vs. expected\n",
    "import matplotlib.pyplot as plt\n",
    "\n",
    "fig, ax = plt.subplots(figsize = (9, 6))\n",
    "ax.set_xscale(\"log\")\n",
    "ax.set_yscale(\"log\")\n",
    "\n",
    "plt.scatter(oof_train[0:24069], y_train[0:24069], alpha=0.2)\n",
    "plt.scatter(oof_train[24069:], y_train[24069:], alpha=0.2, color='red')\n",
    "plt.xlabel('pred')\n",
    "plt.ylabel('actual')"
   ]
  },
  {
   "cell_type": "markdown",
   "id": "8da527e2",
   "metadata": {},
   "source": [
    "# 6. Submission"
   ]
  },
  {
   "cell_type": "code",
   "execution_count": 14,
   "id": "fea8cafc",
   "metadata": {},
   "outputs": [],
   "source": [
    "# oof\n",
    "oof = pd.DataFrame()\n",
    "oof[ID] = id_train\n",
    "oof[TARGET] = oof_train\n",
    "oof.loc[oof[TARGET]<0, TARGET] = 0\n",
    "oof.to_csv(output_oof, index=False)"
   ]
  },
  {
   "cell_type": "code",
   "execution_count": 15,
   "id": "4d4d39f2",
   "metadata": {},
   "outputs": [],
   "source": [
    "### submission\n",
    "# not_in_train\n",
    "sub = pd.DataFrame()\n",
    "sub[ID] = id_test\n",
    "sub[TARGET] = oof_test\n",
    "\n",
    "# in_train\n",
    "sub = pd.concat([sub, test_in_train[[ID, TARGET]]], axis=0)\n",
    "sub = sub.sort_values(by=[ID])\n",
    "sub.loc[sub[TARGET]<0, TARGET] = 0\n",
    "\n",
    "# save\n",
    "sub.to_csv(output_sub, index=False)"
   ]
  },
  {
   "cell_type": "markdown",
   "id": "80b0184d",
   "metadata": {},
   "source": [
    "# ...END"
   ]
  }
 ],
 "metadata": {
  "kernelspec": {
   "display_name": "Python 3",
   "language": "python",
   "name": "python3"
  },
  "language_info": {
   "codemirror_mode": {
    "name": "ipython",
    "version": 3
   },
   "file_extension": ".py",
   "mimetype": "text/x-python",
   "name": "python",
   "nbconvert_exporter": "python",
   "pygments_lexer": "ipython3",
   "version": "3.9.12"
  }
 },
 "nbformat": 4,
 "nbformat_minor": 5
}
