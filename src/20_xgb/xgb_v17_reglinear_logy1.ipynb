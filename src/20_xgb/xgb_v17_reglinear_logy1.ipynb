{
 "cells": [
  {
   "cell_type": "markdown",
   "id": "0fb1a34f",
   "metadata": {},
   "source": [
    "# 1. Libraries"
   ]
  },
  {
   "cell_type": "code",
   "execution_count": 1,
   "id": "32234cf9",
   "metadata": {},
   "outputs": [],
   "source": [
    "import pandas as pd\n",
    "import numpy as np\n",
    "import os\n",
    "import math\n",
    "import time\n",
    "import itertools\n",
    "import datetime\n",
    "from datetime import datetime\n",
    "import seaborn as sns\n",
    "\n",
    "import string\n",
    "from wordcloud import STOPWORDS\n",
    "\n",
    "from scipy.stats import skew, boxcox\n",
    "from sklearn import metrics\n",
    "from sklearn.model_selection import train_test_split, GridSearchCV, KFold, StratifiedKFold\n",
    "from sklearn.preprocessing import OneHotEncoder, StandardScaler, LabelEncoder\n",
    "from sklearn.metrics import mean_absolute_error, mean_squared_error\n",
    "\n",
    "# xgboost\n",
    "import xgboost as xgb\n",
    "\n",
    "#Print all rows and columns. Dont hide any\n",
    "pd.set_option('display.max_rows', None)\n",
    "pd.set_option('display.max_columns', None)"
   ]
  },
  {
   "cell_type": "markdown",
   "id": "a6256f88",
   "metadata": {},
   "source": [
    "# 2. Configuration"
   ]
  },
  {
   "cell_type": "code",
   "execution_count": 2,
   "id": "4e7a1563",
   "metadata": {},
   "outputs": [],
   "source": [
    "output_featimp = 'feat_xgb_v17_reglinear_logy1.csv'\n",
    "output_sub     = 'sub_xgb_v17_reglinear_logy1.csv'\n",
    "output_oof     = 'oof_xgb_v17_reglinear_logy1.csv'\n",
    "\n",
    "shift = 1\n",
    "\n",
    "ID = 'tweet_id'\n",
    "TARGET = 'engagement_count'\n",
    "NFOLDS = 5\n",
    "SEED = 2023\n",
    "NROWS = None\n",
    "DATA_DIR = \"../input\"\n",
    "\n",
    "TRAIN_FILE = \"{0}/expert_training.csv\".format(DATA_DIR)\n",
    "TEST_FILE = \"{0}/expert_testing.csv\".format(DATA_DIR)\n",
    "SUBMISSION_FILE = \"{0}/expert_samplesubmission.csv\".format(DATA_DIR)\n",
    "\n",
    "params = {\n",
    "    'seed': 0,\n",
    "    'booster': 'gbtree', # gbtree, gblinear or dart\n",
    "    'objective': 'reg:linear', # count:poisson, reg:linear, reg:squarederror, reg:squaredlogerror, reg:absoluteerror, reg:gamma, reg:tweedie\n",
    "    'learning_rate': 0.01, # default=0.3\n",
    "    'max_depth': 12, # default=6\n",
    "    'min_child_weight': 10, # default=1\n",
    "    'subsample': 0.9, # default=1\n",
    "    'colsample_bytree': 0.8, # default=1\n",
    "#     'gamma': 0, # default=0\n",
    "#     'lambda': 1, # default=1\n",
    "#     'alpha': 0, # default=0\n",
    "    }"
   ]
  },
  {
   "cell_type": "markdown",
   "id": "51cba7b1",
   "metadata": {},
   "source": [
    "# 3. Functions"
   ]
  },
  {
   "cell_type": "code",
   "execution_count": 3,
   "id": "63c45ca7",
   "metadata": {},
   "outputs": [],
   "source": [
    "def rmse(predictions, targets):\n",
    "    return np.sqrt(((predictions - targets) ** 2).mean())\n",
    "\n",
    "def xg_eval_rmse(yhat, dtrain):\n",
    "    y = dtrain.get_label()\n",
    "    return 'rmse', np.sqrt(((yhat - y) ** 2).mean())"
   ]
  },
  {
   "cell_type": "markdown",
   "id": "f4609793",
   "metadata": {},
   "source": [
    "# 4. Data"
   ]
  },
  {
   "cell_type": "code",
   "execution_count": 4,
   "id": "ae05b890",
   "metadata": {},
   "outputs": [
    {
     "name": "stderr",
     "output_type": "stream",
     "text": [
      "C:\\Users\\kkudo\\AppData\\Local\\Temp\\ipykernel_41208\\43068727.py:17: SettingWithCopyWarning: \n",
      "A value is trying to be set on a copy of a slice from a DataFrame.\n",
      "Try using .loc[row_indexer,col_indexer] = value instead\n",
      "\n",
      "See the caveats in the documentation: https://pandas.pydata.org/pandas-docs/stable/user_guide/indexing.html#returning-a-view-versus-a-copy\n",
      "  train_df['train_test'] = 'train'\n",
      "C:\\Users\\kkudo\\AppData\\Local\\Temp\\ipykernel_41208\\43068727.py:18: SettingWithCopyWarning: \n",
      "A value is trying to be set on a copy of a slice from a DataFrame.\n",
      "Try using .loc[row_indexer,col_indexer] = value instead\n",
      "\n",
      "See the caveats in the documentation: https://pandas.pydata.org/pandas-docs/stable/user_guide/indexing.html#returning-a-view-versus-a-copy\n",
      "  test_df['train_test']  = 'test'\n"
     ]
    }
   ],
   "source": [
    "# read data\n",
    "train = pd.read_csv(TRAIN_FILE, nrows=NROWS)\n",
    "test = pd.read_csv(TEST_FILE, nrows=NROWS)\n",
    "\n",
    "# fill test target\n",
    "test[TARGET] = 0\n",
    "\n",
    "# name + text\n",
    "train['name_time_text'] = train['screen_name'] + \" \" + train['created_at'] + \" \"  + train['full_text']\n",
    "test['name_time_text']  = test['screen_name']  + \" \" + test['created_at']  + \" \"  + test['full_text']\n",
    "\n",
    "# drop duplicates (the first one will be kept)\n",
    "train_df = train.drop_duplicates(subset=['name_time_text'])\n",
    "test_df  = test.drop_duplicates(subset=['name_time_text'])\n",
    "\n",
    "# train test indicator\n",
    "train_df['train_test'] = 'train'\n",
    "test_df['train_test']  = 'test'\n",
    "\n",
    "# concat\n",
    "train_test_df = pd.concat([train_df, test_df], axis=0)\n",
    "\n",
    "# flag for duplicated one (last one(test) will have \"True\")\n",
    "train_test_df['in_train'] = train_test_df['name_time_text'].duplicated()\n",
    "\n",
    "# add \"in_train\" flag to original test data\n",
    "in_train_df = train_test_df.loc[train_test_df['in_train']]\n",
    "in_train_df = in_train_df[['name_time_text','in_train']]\n",
    "test = test.merge(in_train_df, on='name_time_text', how='left')\n",
    "test['in_train'] = test['in_train'].fillna(False)\n",
    "\n",
    "# set aside train_test_df after removing duplicates (the first one(train) will be kept). It will be used for feature engineering\n",
    "train_test_df = train_test_df[~train_test_df['in_train']]\n",
    "\n",
    "# separate test \"in train' and 'not in train'\n",
    "test_in_train = test[test['in_train']]\n",
    "test_not_in_train = test[~test['in_train']]\n",
    "\n",
    "# get target values from train_df\n",
    "test_in_train = test_in_train.drop([TARGET], axis=1)\n",
    "test_in_train = test_in_train.merge(train_df[['name_time_text',TARGET]], on='name_time_text', how='left')\n",
    "\n",
    "# get # of rows\n",
    "ntrain = train_df.shape[0]\n",
    "ntest = test_not_in_train.shape[0]\n",
    "\n",
    "# drop_index\n",
    "test_not_in_train = test_not_in_train.reset_index(drop=True)\n",
    "train_df = train_df.reset_index(drop=True)\n",
    "\n",
    "# get id and target\n",
    "id_train = train_df[ID]\n",
    "id_test = test_not_in_train[ID]\n",
    "y_train = np.log(train_df[TARGET]+shift)\n",
    "\n",
    "# make them have the same columns\n",
    "test_not_in_train = test_not_in_train.drop(['in_train'], axis=1)\n",
    "test_not_in_train['train_test'] = 'test'\n",
    "\n",
    "# concatenate train and test\n",
    "train_test = pd.concat([train_df, test_not_in_train]).reset_index(drop=True)"
   ]
  },
  {
   "cell_type": "markdown",
   "id": "24db1f83",
   "metadata": {},
   "source": [
    "# 5. Preprocessing"
   ]
  },
  {
   "cell_type": "markdown",
   "id": "d96dd918",
   "metadata": {},
   "source": [
    "##### train_test:   train does not have duplicates, but test has duplicates\n",
    "##### train_test_df:it does not have duplicates. It will be used for feature engineering"
   ]
  },
  {
   "cell_type": "code",
   "execution_count": 5,
   "id": "f625f391",
   "metadata": {},
   "outputs": [],
   "source": [
    "names = ['songmyeongho1',\n",
    " 'web3_inu',\n",
    " 'ethereum',\n",
    " 'NFTcollector00',\n",
    " 'web3',\n",
    " 'PulsechainCom',\n",
    " 'Bitcoin',\n",
    " 'magicianpromos',\n",
    " 'cryptoBILLnfts',\n",
    " 'cryptopunksnfts',\n",
    " 'cryptoworld_gg',\n",
    " 'russnft',\n",
    " 'Crypto_Inside_',\n",
    " 'DeGodsNFT',\n",
    " 'BabyDogeNFTs',\n",
    " 'CryptoCapo_',\n",
    " 'MrsunNFT',\n",
    " 'kris',\n",
    " 'AnuelNFT',\n",
    " 'cryptocom',\n",
    " 'NftCryptosArt']\n",
    "\n",
    "# train_test.query(f'screen_name in {names}')\n",
    "train_test.loc[train_test['screen_name'].isin(names),'highprofile'] = 1\n",
    "train_test['highprofile'] = train_test['highprofile'].fillna(0)\n",
    "train_test['highprofile'] = train_test['highprofile'].astype(int)\n",
    "\n",
    "train_test_df.loc[train_test_df['screen_name'].isin(names),'highprofile'] = 1\n",
    "train_test_df['highprofile'] = train_test_df['highprofile'].fillna(0)\n",
    "train_test_df['highprofile'] = train_test_df['highprofile'].astype(int)"
   ]
  },
  {
   "cell_type": "code",
   "execution_count": 6,
   "id": "469fe002",
   "metadata": {},
   "outputs": [],
   "source": [
    "X = pd.DataFrame()\n",
    "\n",
    "# screen_name\n",
    "X['highprofile'] = train_test['highprofile']\n",
    "# X['highprofile'] = X['highprofile'].astype(int)\n",
    "\n",
    "## created at\n",
    "# convert 'created_at' from object to datetime\n",
    "train_test['created_at'] = pd.to_datetime(train_test['created_at'])\n",
    "train_test['dayname'] = train_test['created_at'].dt.strftime('%A')\n",
    "train_test['date'] = pd.to_datetime(train_test['created_at']).dt.date\n",
    "train_test['yrmonth'] = (pd.to_datetime(train_test['created_at']).dt.year-2013)*12+pd.to_datetime(train_test['created_at']).dt.month\n",
    "train_test['year'] = pd.to_datetime(train_test['created_at']).dt.year\n",
    "\n",
    "train_test_df['created_at'] = pd.to_datetime(train_test_df['created_at'])\n",
    "train_test_df['dayname'] = train_test_df['created_at'].dt.strftime('%A')\n",
    "train_test_df['date'] = pd.to_datetime(train_test_df['created_at']).dt.date\n",
    "train_test_df['yrmonth'] = (pd.to_datetime(train_test_df['created_at']).dt.year-2013)*12+pd.to_datetime(train_test_df['created_at']).dt.month\n",
    "train_test_df['year'] = pd.to_datetime(train_test_df['created_at']).dt.year\n",
    "\n",
    "\n",
    "# ymd\n",
    "X['created_at_year'] = pd.to_datetime(train_test['created_at']).dt.year\n",
    "X['created_at_month'] = pd.to_datetime(train_test['created_at']).dt.month\n",
    "X['created_at_yrmonth'] = (pd.to_datetime(train_test['created_at']).dt.year-2013)*12+pd.to_datetime(train_test['created_at']).dt.month\n",
    "\n",
    "# day name\n",
    "tmp = pd.get_dummies(train_test['dayname'], prefix='dayname', prefix_sep='_')\n",
    "X = pd.concat([X, tmp], axis=1)\n",
    "\n",
    "# le = LabelEncoder()\n",
    "# X['dayname']= le.fit_transform(train_test['dayname'])\n",
    "\n",
    "\n",
    "## full text\n",
    "# count of words\n",
    "X['count_words'] = train_test['full_text'].str.split().map(lambda x: len(x))\n",
    "\n",
    "# count of characters\n",
    "X['count_chars'] = train_test['full_text'].str.len()\n",
    "\n",
    "# count of unique workds\n",
    "X['unique_word_count'] = train_test['full_text'].apply(lambda x: len(set(str(x).split())))\n",
    "\n",
    "# count of stop word\n",
    "X['stop_word_count'] = train_test['full_text'].apply(lambda x: len([w for w in str(x).lower().split() if w in STOPWORDS]))\n",
    "\n",
    "# url_count\n",
    "X['url_count'] = train_test['full_text'].apply(lambda x: len([w for w in str(x).lower().split() if 'http' in w or 'https' in w]))\n",
    "\n",
    "# mean_word_length\n",
    "X['mean_word_length'] = train_test['full_text'].apply(lambda x: np.mean([len(w) for w in str(x).split()]))\n",
    "\n",
    "# punctuation_count\n",
    "X['punctuation_count'] = train_test['full_text'].apply(lambda x: len([c for c in str(x) if c in string.punctuation]))\n",
    "\n",
    "# hashtag_count\n",
    "X['hashtag_count'] = train_test['full_text'].apply(lambda x: len([c for c in str(x) if c == '#']))\n",
    "\n",
    "# mention_count\n",
    "X['mention_count'] = train_test['full_text'].apply(lambda x: len([c for c in str(x) if c == '@']))\n",
    "\n",
    "\n",
    "## tweet frequency - for aggregation, make sure to use \"train_test_df\" (not \"train_test\")\n",
    "# same day\n",
    "tmp = train_test_df.groupby(['screen_name','date'])['full_text'].count().reset_index()\n",
    "tmp = tmp.rename(columns={\"full_text\": \"tweet_count_same_day\"})\n",
    "tmp.head()\n",
    "\n",
    "train_test = train_test.merge(tmp, how='left', on=['screen_name','date'])\n",
    "train_test['tweet_count_same_day'] = train_test['tweet_count_same_day'].fillna(0)\n",
    "X['tweet_count_same_day'] = train_test['tweet_count_same_day']\n",
    "\n",
    "# same month\n",
    "tmp = train_test_df.groupby(['screen_name','yrmonth'])['full_text'].count().reset_index()\n",
    "tmp = tmp.rename(columns={'full_text': 'tweet_count_same_month'})\n",
    "tmp.head()\n",
    "\n",
    "train_test = train_test.merge(tmp, how='left', on=['screen_name','yrmonth'])\n",
    "train_test['tweet_count_same_month'] = train_test['tweet_count_same_month'].fillna(0)\n",
    "X['tweet_count_same_month'] = train_test['tweet_count_same_month']\n",
    "\n",
    "# same year\n",
    "tmp = train_test_df.groupby(['screen_name','year'])['full_text'].count().reset_index()\n",
    "tmp = tmp.rename(columns={'full_text': 'tweet_count_same_year'})\n",
    "tmp.head()\n",
    "\n",
    "train_test = train_test.merge(tmp, how='left', on=['screen_name','year'])\n",
    "train_test['tweet_count_same_yearonth'] = train_test['tweet_count_same_year'].fillna(0)\n",
    "X['tweet_count_same_year'] = train_test['tweet_count_same_year']\n",
    "\n",
    "\n",
    "## display_text_range\n",
    "X['display_text_range'] = train_test['display_text_range']\n",
    "# X['display_text_range_bin'] = pd.cut(train_test['display_text_range'], bins=10, labels=False)\n",
    "\n",
    "## in_reply_to_screen_name\n",
    "X['in_reply_to_screen_name_flg'] = train_test['in_reply_to_screen_name'].apply(lambda x : 0 if x is np.nan else 1)\n",
    "\n",
    "\n",
    "## is_quote_status\n",
    "X['is_quote_status'] = train_test['is_quote_status'].apply(lambda x : 1 if x else 0)\n",
    "\n",
    "\n",
    "## includes_media\n",
    "X['includes_media'] = train_test['includes_media'].apply(lambda x : 1 if x else 0)\n",
    "\n",
    "\n",
    "## hashtags\n",
    "#X['hashtag_count'] = len(train_test['hashtags'].split(', '))\n",
    "X['hashtag_Bitcoin'] = train_test['hashtags'].str.contains('Bitcoin')\n",
    "X['hashtag_Bitcoin'] = X['hashtag_Bitcoin'].apply(lambda x : 1 if x else 0)\n",
    "\n",
    "X['hashtag_Crypto'] = train_test['hashtags'].str.contains('Crypto')\n",
    "X['hashtag_Crypto'] = X['hashtag_Crypto'].apply(lambda x : 1 if x else 0)\n",
    "\n",
    "\n",
    "## user_mentions\n",
    "X['user_mentions_flg'] = train_test['user_mentions'].apply(lambda x : 0 if x is np.nan else 1)"
   ]
  },
  {
   "cell_type": "code",
   "execution_count": 7,
   "id": "5779dc0e",
   "metadata": {},
   "outputs": [],
   "source": [
    "# sentimental analysis scores\n",
    "sent = pd.read_csv('../00_SentimentAnalysis/sentiment_analysis_scores3.csv', nrows=NROWS)\n",
    "\n",
    "train_test = train_test.merge(sent, on='tweet_id', how='left')\n",
    "X['sent_score'] = train_test['sent_score']\n",
    "X['sent_label_NEG'] = train_test['sent_label_NEG']\n",
    "X['sent_label_NEU'] = train_test['sent_label_NEU']\n",
    "X['sent_label_POS'] = train_test['sent_label_POS']"
   ]
  },
  {
   "cell_type": "code",
   "execution_count": 8,
   "id": "5a1de7be",
   "metadata": {},
   "outputs": [],
   "source": [
    "# followers\n",
    "fol = pd.read_csv('../00_EDA/screen_names_followers.csv', nrows=NROWS)\n",
    "\n",
    "train_test = train_test.merge(fol, on='screen_name', how='left')\n",
    "X['followers'] = train_test['followers']"
   ]
  },
  {
   "cell_type": "code",
   "execution_count": 9,
   "id": "38d91e24",
   "metadata": {},
   "outputs": [],
   "source": [
    "# separate train and test\n",
    "x_train = X.iloc[:ntrain,:]\n",
    "x_test = X.iloc[ntrain:,:]"
   ]
  },
  {
   "cell_type": "code",
   "execution_count": 10,
   "id": "ef6b556d",
   "metadata": {},
   "outputs": [
    {
     "name": "stderr",
     "output_type": "stream",
     "text": [
      "C:\\Users\\kkudo\\AppData\\Local\\Temp\\ipykernel_41208\\1776465337.py:31: SettingWithCopyWarning: \n",
      "A value is trying to be set on a copy of a slice from a DataFrame.\n",
      "Try using .loc[row_indexer,col_indexer] = value instead\n",
      "\n",
      "See the caveats in the documentation: https://pandas.pydata.org/pandas-docs/stable/user_guide/indexing.html#returning-a-view-versus-a-copy\n",
      "  x_train['oof_screen_name'] = oof_train\n",
      "C:\\Users\\kkudo\\AppData\\Local\\Temp\\ipykernel_41208\\1776465337.py:32: SettingWithCopyWarning: \n",
      "A value is trying to be set on a copy of a slice from a DataFrame.\n",
      "Try using .loc[row_indexer,col_indexer] = value instead\n",
      "\n",
      "See the caveats in the documentation: https://pandas.pydata.org/pandas-docs/stable/user_guide/indexing.html#returning-a-view-versus-a-copy\n",
      "  x_test['oof_screen_name'] = oof_test\n"
     ]
    }
   ],
   "source": [
    "## OOF target\n",
    "oof_nfolds = 10\n",
    "\n",
    "kfold = KFold(n_splits=oof_nfolds, random_state=SEED, shuffle=True)\n",
    "\n",
    "oof_train = np.zeros((ntrain,))\n",
    "oof_test = np.zeros((ntest,))\n",
    "oof_test_skf = np.empty((oof_nfolds, ntest))\n",
    "\n",
    "\n",
    "for fold_id, (train_idx, valid_idx) in enumerate(kfold.split(train_df)):\n",
    "    tr_df = train_df.iloc[train_idx]\n",
    "    vl_df = train_df.iloc[valid_idx]\n",
    "    \n",
    "    # screen_name\n",
    "    tmp = tr_df.groupby(['screen_name'])[TARGET].mean()\n",
    "    tmp = pd.DataFrame(tmp).reset_index().rename(columns={TARGET: 'oof_screen_name'})\n",
    "    tmp_mean = tr_df[TARGET].mean()\n",
    "    \n",
    "    a = vl_df[[ID,'screen_name']].merge(tmp, on='screen_name', how='left')\n",
    "    a['oof_screen_name'] = a['oof_screen_name'].fillna(tmp_mean)\n",
    "    oof_train[valid_idx] = a['oof_screen_name']\n",
    "    \n",
    "    a = test_not_in_train[[ID,'screen_name']].merge(tmp, on='screen_name', how='left')\n",
    "    a['oof_screen_name'] = a['oof_screen_name'].fillna(tmp_mean)\n",
    "    oof_test_skf[fold_id, :] = a['oof_screen_name']\n",
    "    \n",
    "oof_test[:] = oof_test_skf.mean(axis=0)\n",
    "\n",
    "\n",
    "x_train['oof_screen_name'] = oof_train\n",
    "x_test['oof_screen_name'] = oof_test"
   ]
  },
  {
   "cell_type": "markdown",
   "id": "b88281f5",
   "metadata": {},
   "source": [
    "# 5. Cross Validation"
   ]
  },
  {
   "cell_type": "code",
   "execution_count": 12,
   "id": "a5f93b3d",
   "metadata": {
    "scrolled": false
   },
   "outputs": [
    {
     "name": "stdout",
     "output_type": "stream",
     "text": [
      "\n",
      "Fold 1 / 5\n",
      "[18:31:41] WARNING: C:/Users/Administrator/workspace/xgboost-win64_release_1.6.0/src/objective/regression_obj.cu:203: reg:linear is now deprecated in favor of reg:squarederror.\n",
      "[0]\ttrain-rmse:2.60082\teval-rmse:2.57770\n",
      "[100]\ttrain-rmse:1.24936\teval-rmse:1.32471\n",
      "[200]\ttrain-rmse:0.79935\teval-rmse:0.98338\n",
      "[300]\ttrain-rmse:0.63795\teval-rmse:0.90469\n",
      "[400]\ttrain-rmse:0.56635\teval-rmse:0.88615\n",
      "[500]\ttrain-rmse:0.52560\teval-rmse:0.88011\n",
      "[600]\ttrain-rmse:0.49661\teval-rmse:0.87721\n",
      "[700]\ttrain-rmse:0.47562\teval-rmse:0.87567\n",
      "[800]\ttrain-rmse:0.45871\teval-rmse:0.87484\n",
      "[900]\ttrain-rmse:0.44045\teval-rmse:0.87426\n",
      "[1000]\ttrain-rmse:0.42384\teval-rmse:0.87375\n",
      "[1086]\ttrain-rmse:0.40972\teval-rmse:0.87364\n"
     ]
    },
    {
     "name": "stderr",
     "output_type": "stream",
     "text": [
      "D:\\Programs\\anaconda3\\lib\\site-packages\\xgboost\\core.py:90: UserWarning: ntree_limit is deprecated, use `iteration_range` or model slicing instead.\n",
      "  warnings.warn(\n"
     ]
    },
    {
     "name": "stdout",
     "output_type": "stream",
     "text": [
      "\n",
      "Fold 2 / 5\n",
      "[18:32:02] WARNING: C:/Users/Administrator/workspace/xgboost-win64_release_1.6.0/src/objective/regression_obj.cu:203: reg:linear is now deprecated in favor of reg:squarederror.\n",
      "[0]\ttrain-rmse:2.58903\teval-rmse:2.62528\n",
      "[100]\ttrain-rmse:1.24487\teval-rmse:1.35252\n",
      "[200]\ttrain-rmse:0.79766\teval-rmse:1.00439\n",
      "[300]\ttrain-rmse:0.63918\teval-rmse:0.92337\n",
      "[400]\ttrain-rmse:0.56909\teval-rmse:0.90378\n",
      "[500]\ttrain-rmse:0.52825\teval-rmse:0.89770\n",
      "[600]\ttrain-rmse:0.50007\teval-rmse:0.89478\n",
      "[700]\ttrain-rmse:0.47897\teval-rmse:0.89319\n",
      "[800]\ttrain-rmse:0.46073\teval-rmse:0.89214\n",
      "[900]\ttrain-rmse:0.44503\teval-rmse:0.89131\n",
      "[1000]\ttrain-rmse:0.42968\teval-rmse:0.89089\n",
      "[1100]\ttrain-rmse:0.41437\teval-rmse:0.89056\n",
      "[1189]\ttrain-rmse:0.40247\teval-rmse:0.89059\n",
      "\n",
      "Fold 3 / 5\n",
      "[18:32:25] WARNING: C:/Users/Administrator/workspace/xgboost-win64_release_1.6.0/src/objective/regression_obj.cu:203: reg:linear is now deprecated in favor of reg:squarederror.\n",
      "[0]\ttrain-rmse:2.60058\teval-rmse:2.57848\n"
     ]
    },
    {
     "name": "stderr",
     "output_type": "stream",
     "text": [
      "D:\\Programs\\anaconda3\\lib\\site-packages\\xgboost\\core.py:90: UserWarning: ntree_limit is deprecated, use `iteration_range` or model slicing instead.\n",
      "  warnings.warn(\n"
     ]
    },
    {
     "name": "stdout",
     "output_type": "stream",
     "text": [
      "[100]\ttrain-rmse:1.25097\teval-rmse:1.30736\n",
      "[200]\ttrain-rmse:0.79903\teval-rmse:0.97041\n",
      "[300]\ttrain-rmse:0.63598\teval-rmse:0.89963\n",
      "[400]\ttrain-rmse:0.56436\teval-rmse:0.88548\n",
      "[500]\ttrain-rmse:0.52458\teval-rmse:0.88112\n",
      "[600]\ttrain-rmse:0.49806\teval-rmse:0.87914\n",
      "[700]\ttrain-rmse:0.47697\teval-rmse:0.87799\n",
      "[800]\ttrain-rmse:0.46008\teval-rmse:0.87754\n",
      "[900]\ttrain-rmse:0.44320\teval-rmse:0.87702\n",
      "[1000]\ttrain-rmse:0.42665\teval-rmse:0.87651\n",
      "[1100]\ttrain-rmse:0.41098\teval-rmse:0.87628\n",
      "[1170]\ttrain-rmse:0.40162\teval-rmse:0.87631\n",
      "\n",
      "Fold 4 / 5\n",
      "[18:32:47] WARNING: C:/Users/Administrator/workspace/xgboost-win64_release_1.6.0/src/objective/regression_obj.cu:203: reg:linear is now deprecated in favor of reg:squarederror.\n",
      "[0]\ttrain-rmse:2.59314\teval-rmse:2.60906\n"
     ]
    },
    {
     "name": "stderr",
     "output_type": "stream",
     "text": [
      "D:\\Programs\\anaconda3\\lib\\site-packages\\xgboost\\core.py:90: UserWarning: ntree_limit is deprecated, use `iteration_range` or model slicing instead.\n",
      "  warnings.warn(\n"
     ]
    },
    {
     "name": "stdout",
     "output_type": "stream",
     "text": [
      "[100]\ttrain-rmse:1.24517\teval-rmse:1.35156\n",
      "[200]\ttrain-rmse:0.79474\teval-rmse:1.01164\n",
      "[300]\ttrain-rmse:0.63478\teval-rmse:0.93199\n",
      "[400]\ttrain-rmse:0.56369\teval-rmse:0.91299\n",
      "[500]\ttrain-rmse:0.52345\teval-rmse:0.90719\n",
      "[600]\ttrain-rmse:0.49620\teval-rmse:0.90429\n",
      "[700]\ttrain-rmse:0.47598\teval-rmse:0.90277\n",
      "[800]\ttrain-rmse:0.45719\teval-rmse:0.90208\n",
      "[900]\ttrain-rmse:0.44051\teval-rmse:0.90171\n",
      "[1000]\ttrain-rmse:0.42391\teval-rmse:0.90145\n",
      "[1100]\ttrain-rmse:0.40984\teval-rmse:0.90130\n",
      "[1200]\ttrain-rmse:0.39508\teval-rmse:0.90113\n",
      "[1211]\ttrain-rmse:0.39369\teval-rmse:0.90109\n",
      "\n",
      "Fold 5 / 5\n",
      "[18:33:10] WARNING: C:/Users/Administrator/workspace/xgboost-win64_release_1.6.0/src/objective/regression_obj.cu:203: reg:linear is now deprecated in favor of reg:squarederror.\n",
      "[0]\ttrain-rmse:2.59700\teval-rmse:2.59329\n"
     ]
    },
    {
     "name": "stderr",
     "output_type": "stream",
     "text": [
      "D:\\Programs\\anaconda3\\lib\\site-packages\\xgboost\\core.py:90: UserWarning: ntree_limit is deprecated, use `iteration_range` or model slicing instead.\n",
      "  warnings.warn(\n"
     ]
    },
    {
     "name": "stdout",
     "output_type": "stream",
     "text": [
      "[100]\ttrain-rmse:1.24824\teval-rmse:1.33785\n",
      "[200]\ttrain-rmse:0.79902\teval-rmse:0.99596\n",
      "[300]\ttrain-rmse:0.63974\teval-rmse:0.91635\n",
      "[400]\ttrain-rmse:0.56828\teval-rmse:0.89721\n",
      "[500]\ttrain-rmse:0.52542\teval-rmse:0.89137\n",
      "[600]\ttrain-rmse:0.49633\teval-rmse:0.88896\n",
      "[700]\ttrain-rmse:0.47324\teval-rmse:0.88783\n",
      "[800]\ttrain-rmse:0.45632\teval-rmse:0.88713\n",
      "[900]\ttrain-rmse:0.43971\teval-rmse:0.88686\n",
      "[906]\ttrain-rmse:0.43905\teval-rmse:0.88681\n",
      "\n",
      "OOF RMSE: 855.3811\n",
      "OOF RMSE in 0:24069:   153.4916\n",
      "OOF RMSE in 24069:END: 2779.9746\n"
     ]
    },
    {
     "name": "stderr",
     "output_type": "stream",
     "text": [
      "D:\\Programs\\anaconda3\\lib\\site-packages\\xgboost\\core.py:90: UserWarning: ntree_limit is deprecated, use `iteration_range` or model slicing instead.\n",
      "  warnings.warn(\n"
     ]
    }
   ],
   "source": [
    "# modeling with cross validation\n",
    "# kfold = StratifiedKFold(n_splits=NFOLDS, random_state=SEED, shuffle=True)\n",
    "kfold = KFold(n_splits=NFOLDS, random_state=SEED, shuffle=True)\n",
    "\n",
    "oof_train = np.zeros((ntrain,))\n",
    "oof_test = np.zeros((ntest,))\n",
    "oof_test_skf = np.empty((NFOLDS, ntest))\n",
    "\n",
    "feat_imp = np.zeros((NFOLDS,x_train.shape[1]))\n",
    "\n",
    "d_test = xgb.DMatrix(x_test)\n",
    "\n",
    "for fold_id, (train_idx, valid_idx) in enumerate(kfold.split(x_train)):\n",
    "    \n",
    "    print(\"\\nFold %d / %d\" % (fold_id + 1, NFOLDS))\n",
    "\n",
    "    d_train = xgb.DMatrix(x_train.iloc[train_idx], label=y_train[train_idx])\n",
    "    d_valid = xgb.DMatrix(x_train.iloc[valid_idx], label=y_train[valid_idx])\n",
    "    watchlist = [(d_train, 'train'), (d_valid, 'eval')]\n",
    "\n",
    "    model = xgb.train(params,\n",
    "                      d_train,\n",
    "                      100000,\n",
    "                      evals=watchlist,\n",
    "                      verbose_eval = 100,\n",
    "                      early_stopping_rounds=50,\n",
    "#                       obj=fair_obj,\n",
    "                      custom_metric=xg_eval_rmse)\n",
    "    \n",
    "    oof_train[valid_idx] = np.exp(model.predict(d_valid, ntree_limit=model.best_ntree_limit))-shift\n",
    "    oof_test_skf[fold_id, :] = np.exp(model.predict(d_test, ntree_limit=model.best_ntree_limit))-shift\n",
    "\n",
    "    feat_imp_out = model.get_score(importance_type='gain')\n",
    "    for i,x in enumerate(model.get_score(importance_type='gain')):\n",
    "        feat_imp[fold_id,i] = feat_imp_out[x]\n",
    "    \n",
    "oof_test[:] = oof_test_skf.mean(axis=0)\n",
    "\n",
    "# fill negative with 0\n",
    "oof_train[oof_train<0] = 0\n",
    "oof_test[oof_test<0] = 0\n",
    "\n",
    "feat_imp = feat_imp.mean(axis=0)\n",
    "feat_imp = pd.DataFrame(sorted(zip(feat_imp, x_train.columns),reverse = True), columns=['Gain','Feature'])\n",
    "feat_imp.to_csv(output_featimp, index=False)\n",
    "\n",
    "# OOF RMSE\n",
    "print('\\nOOF RMSE: {:.4f}'.format(rmse(oof_train, np.exp(y_train)-shift)))\n",
    "\n",
    "print('OOF RMSE in 0:24069:   {:.4f}'.format(rmse(oof_train[0:24069], np.exp(y_train[0:24069])-shift)))\n",
    "print('OOF RMSE in 24069:END: {:.4f}'.format(rmse(oof_train[24069:], np.exp(y_train[24069:])-shift)))"
   ]
  },
  {
   "cell_type": "code",
   "execution_count": 17,
   "id": "a47d21c3",
   "metadata": {},
   "outputs": [
    {
     "data": {
      "text/plain": [
       "Text(0, 0.5, 'actual')"
      ]
     },
     "execution_count": 17,
     "metadata": {},
     "output_type": "execute_result"
    },
    {
     "data": {
      "image/png": "[encoded data removed]",
      "text/plain": [
       "<Figure size 648x432 with 1 Axes>"
      ]
     },
     "metadata": {
      "needs_background": "light"
     },
     "output_type": "display_data"
    }
   ],
   "source": [
    "# checking actual vs. expected\n",
    "import matplotlib.pyplot as plt\n",
    "\n",
    "fig, ax = plt.subplots(figsize = (9, 6))\n",
    "ax.set_xscale(\"log\")\n",
    "ax.set_yscale(\"log\")\n",
    "\n",
    "plt.scatter(oof_train, np.exp(y_train)-shift)\n",
    "plt.xlabel('pred')\n",
    "plt.ylabel('actual')"
   ]
  },
  {
   "cell_type": "code",
   "execution_count": 18,
   "id": "46dc0f36",
   "metadata": {},
   "outputs": [
    {
     "data": {
      "text/plain": [
       "Text(0, 0.5, 'actual')"
      ]
     },
     "execution_count": 18,
     "metadata": {},
     "output_type": "execute_result"
    },
    {
     "data": {
      "image/png": "[encoded data removed]",
      "text/plain": [
       "<Figure size 648x432 with 1 Axes>"
      ]
     },
     "metadata": {
      "needs_background": "light"
     },
     "output_type": "display_data"
    }
   ],
   "source": [
    "# checking actual vs. expected\n",
    "import matplotlib.pyplot as plt\n",
    "\n",
    "fig, ax = plt.subplots(figsize = (9, 6))\n",
    "ax.set_xscale(\"log\")\n",
    "ax.set_yscale(\"log\")\n",
    "\n",
    "plt.scatter(oof_train[0:24069], np.exp(y_train[0:24069])-shift, alpha=0.2)\n",
    "plt.scatter(oof_train[24069:], np.exp(y_train[24069:])-shift, alpha=0.2, color='red')\n",
    "plt.xlabel('pred')\n",
    "plt.ylabel('actual')"
   ]
  },
  {
   "cell_type": "markdown",
   "id": "8da527e2",
   "metadata": {},
   "source": [
    "# 6. Submission"
   ]
  },
  {
   "cell_type": "code",
   "execution_count": 19,
   "id": "fea8cafc",
   "metadata": {},
   "outputs": [],
   "source": [
    "# oof\n",
    "oof = pd.DataFrame()\n",
    "oof[ID] = id_train\n",
    "oof[TARGET] = oof_train\n",
    "oof.loc[oof[TARGET]<0, TARGET] = 0\n",
    "oof.to_csv(output_oof, index=False)"
   ]
  },
  {
   "cell_type": "code",
   "execution_count": 20,
   "id": "4d4d39f2",
   "metadata": {},
   "outputs": [],
   "source": [
    "### submission\n",
    "# not_in_train\n",
    "sub = pd.DataFrame()\n",
    "sub[ID] = id_test\n",
    "sub[TARGET] = oof_test\n",
    "\n",
    "# in_train\n",
    "sub = pd.concat([sub, test_in_train[[ID, TARGET]]], axis=0)\n",
    "sub = sub.sort_values(by=[ID])\n",
    "sub.loc[sub[TARGET]<0, TARGET] = 0\n",
    "\n",
    "# save\n",
    "sub.to_csv(output_sub, index=False)"
   ]
  },
  {
   "cell_type": "markdown",
   "id": "80b0184d",
   "metadata": {},
   "source": [
    "# ...END"
   ]
  }
 ],
 "metadata": {
  "kernelspec": {
   "display_name": "Python 3",
   "language": "python",
   "name": "python3"
  },
  "language_info": {
   "codemirror_mode": {
    "name": "ipython",
    "version": 3
   },
   "file_extension": ".py",
   "mimetype": "text/x-python",
   "name": "python",
   "nbconvert_exporter": "python",
   "pygments_lexer": "ipython3",
   "version": "3.9.12"
  }
 },
 "nbformat": 4,
 "nbformat_minor": 5
}
