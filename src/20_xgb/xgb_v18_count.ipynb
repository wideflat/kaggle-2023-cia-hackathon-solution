{
 "cells": [
  {
   "cell_type": "markdown",
   "id": "0fb1a34f",
   "metadata": {},
   "source": [
    "# 1. Libraries"
   ]
  },
  {
   "cell_type": "code",
   "execution_count": 1,
   "id": "32234cf9",
   "metadata": {},
   "outputs": [],
   "source": [
    "import pandas as pd\n",
    "import numpy as np\n",
    "import os\n",
    "import math\n",
    "import time\n",
    "import itertools\n",
    "import datetime\n",
    "from datetime import datetime\n",
    "import seaborn as sns\n",
    "\n",
    "import string\n",
    "from wordcloud import STOPWORDS\n",
    "\n",
    "from scipy.stats import skew, boxcox\n",
    "from sklearn import metrics\n",
    "from sklearn.model_selection import train_test_split, GridSearchCV, KFold, StratifiedKFold\n",
    "from sklearn.preprocessing import OneHotEncoder, StandardScaler, LabelEncoder\n",
    "from sklearn.metrics import mean_absolute_error, mean_squared_error\n",
    "\n",
    "# xgboost\n",
    "import xgboost as xgb\n",
    "\n",
    "#Print all rows and columns. Dont hide any\n",
    "pd.set_option('display.max_rows', None)\n",
    "pd.set_option('display.max_columns', None)"
   ]
  },
  {
   "cell_type": "markdown",
   "id": "a6256f88",
   "metadata": {},
   "source": [
    "# 2. Configuration"
   ]
  },
  {
   "cell_type": "code",
   "execution_count": 2,
   "id": "4e7a1563",
   "metadata": {},
   "outputs": [],
   "source": [
    "output_featimp = 'feat_xgb_v18_count.csv'\n",
    "output_sub     = 'sub_xgb_v18_count.csv'\n",
    "output_oof     = 'oof_xgb_v18_count.csv'\n",
    "\n",
    "ID = 'tweet_id'\n",
    "TARGET = 'engagement_count'\n",
    "NFOLDS = 10\n",
    "SEED = 2023\n",
    "NROWS = None\n",
    "DATA_DIR = \"../input\"\n",
    "\n",
    "TRAIN_FILE = \"{0}/expert_training.csv\".format(DATA_DIR)\n",
    "TEST_FILE = \"{0}/expert_testing.csv\".format(DATA_DIR)\n",
    "SUBMISSION_FILE = \"{0}/expert_samplesubmission.csv\".format(DATA_DIR)\n",
    "\n",
    "params = {\n",
    "    'seed': 0,\n",
    "    'booster': 'gbtree', # gbtree, gblinear or dart\n",
    "    'objective': 'count:poisson', # count:poisson, reg:linear, reg:squarederror, reg:squaredlogerror, reg:absoluteerror, reg:gamma, reg:tweedie\n",
    "    'learning_rate': 0.01, # default=0.3\n",
    "    'max_depth': 12, # default=6\n",
    "    'min_child_weight': 10, # default=1\n",
    "    'subsample': 0.9, # default=1\n",
    "    'colsample_bytree': 0.8, # default=1\n",
    "#     'gamma': 0, # default=0\n",
    "#     'lambda': 1, # default=1\n",
    "#     'alpha': 0, # default=0\n",
    "    }"
   ]
  },
  {
   "cell_type": "markdown",
   "id": "51cba7b1",
   "metadata": {},
   "source": [
    "# 3. Functions"
   ]
  },
  {
   "cell_type": "code",
   "execution_count": 3,
   "id": "63c45ca7",
   "metadata": {},
   "outputs": [],
   "source": [
    "def rmse(predictions, targets):\n",
    "    return np.sqrt(((predictions - targets) ** 2).mean())\n",
    "\n",
    "def xg_eval_rmse(yhat, dtrain):\n",
    "    y = dtrain.get_label()\n",
    "    return 'rmse', np.sqrt(((yhat - y) ** 2).mean())"
   ]
  },
  {
   "cell_type": "markdown",
   "id": "f4609793",
   "metadata": {},
   "source": [
    "# 4. Data"
   ]
  },
  {
   "cell_type": "code",
   "execution_count": 4,
   "id": "ae05b890",
   "metadata": {},
   "outputs": [
    {
     "name": "stderr",
     "output_type": "stream",
     "text": [
      "C:\\Users\\kkudo\\AppData\\Local\\Temp\\ipykernel_3056\\2301700253.py:17: SettingWithCopyWarning: \n",
      "A value is trying to be set on a copy of a slice from a DataFrame.\n",
      "Try using .loc[row_indexer,col_indexer] = value instead\n",
      "\n",
      "See the caveats in the documentation: https://pandas.pydata.org/pandas-docs/stable/user_guide/indexing.html#returning-a-view-versus-a-copy\n",
      "  train_df['train_test'] = 'train'\n",
      "C:\\Users\\kkudo\\AppData\\Local\\Temp\\ipykernel_3056\\2301700253.py:18: SettingWithCopyWarning: \n",
      "A value is trying to be set on a copy of a slice from a DataFrame.\n",
      "Try using .loc[row_indexer,col_indexer] = value instead\n",
      "\n",
      "See the caveats in the documentation: https://pandas.pydata.org/pandas-docs/stable/user_guide/indexing.html#returning-a-view-versus-a-copy\n",
      "  test_df['train_test']  = 'test'\n"
     ]
    }
   ],
   "source": [
    "# read data\n",
    "train = pd.read_csv(TRAIN_FILE, nrows=NROWS)\n",
    "test = pd.read_csv(TEST_FILE, nrows=NROWS)\n",
    "\n",
    "# fill test target\n",
    "test[TARGET] = 0\n",
    "\n",
    "# name + text\n",
    "train['name_time_text'] = train['screen_name'] + \" \" + train['created_at'] + \" \"  + train['full_text']\n",
    "test['name_time_text']  = test['screen_name']  + \" \" + test['created_at']  + \" \"  + test['full_text']\n",
    "\n",
    "# drop duplicates (the first one will be kept)\n",
    "train_df = train.drop_duplicates(subset=['name_time_text'])\n",
    "test_df  = test.drop_duplicates(subset=['name_time_text'])\n",
    "\n",
    "# train test indicator\n",
    "train_df['train_test'] = 'train'\n",
    "test_df['train_test']  = 'test'\n",
    "\n",
    "# concat\n",
    "train_test_df = pd.concat([train_df, test_df], axis=0)\n",
    "\n",
    "# flag for duplicated one (last one(test) will have \"True\")\n",
    "train_test_df['in_train'] = train_test_df['name_time_text'].duplicated()\n",
    "\n",
    "# add \"in_train\" flag to original test data\n",
    "in_train_df = train_test_df.loc[train_test_df['in_train']]\n",
    "in_train_df = in_train_df[['name_time_text','in_train']]\n",
    "test = test.merge(in_train_df, on='name_time_text', how='left')\n",
    "test['in_train'] = test['in_train'].fillna(False)\n",
    "\n",
    "# set aside train_test_df after removing duplicates (the first one(train) will be kept). It will be used for feature engineering\n",
    "train_test_df = train_test_df[~train_test_df['in_train']]\n",
    "\n",
    "# separate test \"in train' and 'not in train'\n",
    "test_in_train = test[test['in_train']]\n",
    "test_not_in_train = test[~test['in_train']]\n",
    "\n",
    "# get target values from train_df\n",
    "test_in_train = test_in_train.drop([TARGET], axis=1)\n",
    "test_in_train = test_in_train.merge(train_df[['name_time_text',TARGET]], on='name_time_text', how='left')\n",
    "\n",
    "# get # of rows\n",
    "ntrain = train_df.shape[0]\n",
    "ntest = test_not_in_train.shape[0]\n",
    "\n",
    "# drop_index\n",
    "test_not_in_train = test_not_in_train.reset_index(drop=True)\n",
    "train_df = train_df.reset_index(drop=True)\n",
    "\n",
    "# get id and target\n",
    "id_train = train_df[ID]\n",
    "id_test = test_not_in_train[ID]\n",
    "y_train = train_df[TARGET]\n",
    "\n",
    "# make them have the same columns\n",
    "test_not_in_train = test_not_in_train.drop(['in_train'], axis=1)\n",
    "test_not_in_train['train_test'] = 'test'\n",
    "\n",
    "# concatenate train and test\n",
    "train_test = pd.concat([train_df, test_not_in_train]).reset_index(drop=True)"
   ]
  },
  {
   "cell_type": "markdown",
   "id": "24db1f83",
   "metadata": {},
   "source": [
    "# 5. Preprocessing"
   ]
  },
  {
   "cell_type": "markdown",
   "id": "d96dd918",
   "metadata": {},
   "source": [
    "##### train_test:   train does not have duplicates, but test has duplicates\n",
    "##### train_test_df:it does not have duplicates. It will be used for feature engineering"
   ]
  },
  {
   "cell_type": "code",
   "execution_count": 5,
   "id": "f625f391",
   "metadata": {},
   "outputs": [],
   "source": [
    "names = ['songmyeongho1',\n",
    " 'web3_inu',\n",
    " 'ethereum',\n",
    " 'NFTcollector00',\n",
    " 'web3',\n",
    " 'PulsechainCom',\n",
    " 'Bitcoin',\n",
    " 'magicianpromos',\n",
    " 'cryptoBILLnfts',\n",
    " 'cryptopunksnfts',\n",
    " 'cryptoworld_gg',\n",
    " 'russnft',\n",
    " 'Crypto_Inside_',\n",
    " 'DeGodsNFT',\n",
    " 'BabyDogeNFTs',\n",
    " 'CryptoCapo_',\n",
    " 'MrsunNFT',\n",
    " 'kris',\n",
    " 'AnuelNFT',\n",
    " 'cryptocom',\n",
    " 'NftCryptosArt']\n",
    "\n",
    "# train_test.query(f'screen_name in {names}')\n",
    "train_test.loc[train_test['screen_name'].isin(names),'highprofile'] = 1\n",
    "train_test['highprofile'] = train_test['highprofile'].fillna(0)\n",
    "train_test['highprofile'] = train_test['highprofile'].astype(int)\n",
    "\n",
    "train_test_df.loc[train_test_df['screen_name'].isin(names),'highprofile'] = 1\n",
    "train_test_df['highprofile'] = train_test_df['highprofile'].fillna(0)\n",
    "train_test_df['highprofile'] = train_test_df['highprofile'].astype(int)"
   ]
  },
  {
   "cell_type": "code",
   "execution_count": 6,
   "id": "469fe002",
   "metadata": {},
   "outputs": [],
   "source": [
    "X = pd.DataFrame()\n",
    "\n",
    "# screen_name\n",
    "X['highprofile'] = train_test['highprofile']\n",
    "# X['highprofile'] = X['highprofile'].astype(int)\n",
    "\n",
    "## created at\n",
    "# convert 'created_at' from object to datetime\n",
    "train_test['created_at'] = pd.to_datetime(train_test['created_at'])\n",
    "train_test['dayname'] = train_test['created_at'].dt.strftime('%A')\n",
    "train_test['date'] = pd.to_datetime(train_test['created_at']).dt.date\n",
    "train_test['yrmonth'] = (pd.to_datetime(train_test['created_at']).dt.year-2013)*12+pd.to_datetime(train_test['created_at']).dt.month\n",
    "train_test['year'] = pd.to_datetime(train_test['created_at']).dt.year\n",
    "\n",
    "train_test_df['created_at'] = pd.to_datetime(train_test_df['created_at'])\n",
    "train_test_df['dayname'] = train_test_df['created_at'].dt.strftime('%A')\n",
    "train_test_df['date'] = pd.to_datetime(train_test_df['created_at']).dt.date\n",
    "train_test_df['yrmonth'] = (pd.to_datetime(train_test_df['created_at']).dt.year-2013)*12+pd.to_datetime(train_test_df['created_at']).dt.month\n",
    "train_test_df['year'] = pd.to_datetime(train_test_df['created_at']).dt.year\n",
    "\n",
    "\n",
    "# ymd\n",
    "X['created_at_year'] = pd.to_datetime(train_test['created_at']).dt.year\n",
    "X['created_at_month'] = pd.to_datetime(train_test['created_at']).dt.month\n",
    "X['created_at_yrmonth'] = (pd.to_datetime(train_test['created_at']).dt.year-2013)*12+pd.to_datetime(train_test['created_at']).dt.month\n",
    "\n",
    "# day name\n",
    "tmp = pd.get_dummies(train_test['dayname'], prefix='dayname', prefix_sep='_')\n",
    "X = pd.concat([X, tmp], axis=1)\n",
    "\n",
    "# le = LabelEncoder()\n",
    "# X['dayname']= le.fit_transform(train_test['dayname'])\n",
    "\n",
    "\n",
    "## full text\n",
    "# count of words\n",
    "X['count_words'] = train_test['full_text'].str.split().map(lambda x: len(x))\n",
    "\n",
    "# count of characters\n",
    "X['count_chars'] = train_test['full_text'].str.len()\n",
    "\n",
    "# count of unique workds\n",
    "X['unique_word_count'] = train_test['full_text'].apply(lambda x: len(set(str(x).split())))\n",
    "\n",
    "# count of stop word\n",
    "X['stop_word_count'] = train_test['full_text'].apply(lambda x: len([w for w in str(x).lower().split() if w in STOPWORDS]))\n",
    "\n",
    "# url_count\n",
    "X['url_count'] = train_test['full_text'].apply(lambda x: len([w for w in str(x).lower().split() if 'http' in w or 'https' in w]))\n",
    "\n",
    "# mean_word_length\n",
    "X['mean_word_length'] = train_test['full_text'].apply(lambda x: np.mean([len(w) for w in str(x).split()]))\n",
    "\n",
    "# punctuation_count\n",
    "X['punctuation_count'] = train_test['full_text'].apply(lambda x: len([c for c in str(x) if c in string.punctuation]))\n",
    "\n",
    "# hashtag_count\n",
    "X['hashtag_count'] = train_test['full_text'].apply(lambda x: len([c for c in str(x) if c == '#']))\n",
    "\n",
    "# mention_count\n",
    "X['mention_count'] = train_test['full_text'].apply(lambda x: len([c for c in str(x) if c == '@']))\n",
    "\n",
    "\n",
    "## tweet frequency - for aggregation, make sure to use \"train_test_df\" (not \"train_test\")\n",
    "# same day\n",
    "tmp = train_test_df.groupby(['screen_name','date'])['full_text'].count().reset_index()\n",
    "tmp = tmp.rename(columns={\"full_text\": \"tweet_count_same_day\"})\n",
    "tmp.head()\n",
    "\n",
    "train_test = train_test.merge(tmp, how='left', on=['screen_name','date'])\n",
    "train_test['tweet_count_same_day'] = train_test['tweet_count_same_day'].fillna(0)\n",
    "X['tweet_count_same_day'] = train_test['tweet_count_same_day']\n",
    "\n",
    "# same month\n",
    "tmp = train_test_df.groupby(['screen_name','yrmonth'])['full_text'].count().reset_index()\n",
    "tmp = tmp.rename(columns={'full_text': 'tweet_count_same_month'})\n",
    "tmp.head()\n",
    "\n",
    "train_test = train_test.merge(tmp, how='left', on=['screen_name','yrmonth'])\n",
    "train_test['tweet_count_same_month'] = train_test['tweet_count_same_month'].fillna(0)\n",
    "X['tweet_count_same_month'] = train_test['tweet_count_same_month']\n",
    "\n",
    "# same year\n",
    "tmp = train_test_df.groupby(['screen_name','year'])['full_text'].count().reset_index()\n",
    "tmp = tmp.rename(columns={'full_text': 'tweet_count_same_year'})\n",
    "tmp.head()\n",
    "\n",
    "train_test = train_test.merge(tmp, how='left', on=['screen_name','year'])\n",
    "train_test['tweet_count_same_yearonth'] = train_test['tweet_count_same_year'].fillna(0)\n",
    "X['tweet_count_same_year'] = train_test['tweet_count_same_year']\n",
    "\n",
    "\n",
    "## display_text_range\n",
    "X['display_text_range'] = train_test['display_text_range']\n",
    "# X['display_text_range_bin'] = pd.cut(train_test['display_text_range'], bins=10, labels=False)\n",
    "\n",
    "## in_reply_to_screen_name\n",
    "X['in_reply_to_screen_name_flg'] = train_test['in_reply_to_screen_name'].apply(lambda x : 0 if x is np.nan else 1)\n",
    "\n",
    "\n",
    "## is_quote_status\n",
    "X['is_quote_status'] = train_test['is_quote_status'].apply(lambda x : 1 if x else 0)\n",
    "\n",
    "\n",
    "## includes_media\n",
    "X['includes_media'] = train_test['includes_media'].apply(lambda x : 1 if x else 0)\n",
    "\n",
    "\n",
    "## hashtags\n",
    "#X['hashtag_count'] = len(train_test['hashtags'].split(', '))\n",
    "X['hashtag_Bitcoin'] = train_test['hashtags'].str.contains('Bitcoin')\n",
    "X['hashtag_Bitcoin'] = X['hashtag_Bitcoin'].apply(lambda x : 1 if x else 0)\n",
    "\n",
    "X['hashtag_Crypto'] = train_test['hashtags'].str.contains('Crypto')\n",
    "X['hashtag_Crypto'] = X['hashtag_Crypto'].apply(lambda x : 1 if x else 0)\n",
    "\n",
    "\n",
    "## user_mentions\n",
    "X['user_mentions_flg'] = train_test['user_mentions'].apply(lambda x : 0 if x is np.nan else 1)"
   ]
  },
  {
   "cell_type": "code",
   "execution_count": 7,
   "id": "5779dc0e",
   "metadata": {},
   "outputs": [],
   "source": [
    "# sentimental analysis scores\n",
    "sent = pd.read_csv('../00_SentimentAnalysis/sentiment_analysis_scores3.csv', nrows=NROWS)\n",
    "\n",
    "train_test = train_test.merge(sent, on='tweet_id', how='left')\n",
    "X['sent_score'] = train_test['sent_score']\n",
    "X['sent_label_NEG'] = train_test['sent_label_NEG']\n",
    "X['sent_label_NEU'] = train_test['sent_label_NEU']\n",
    "X['sent_label_POS'] = train_test['sent_label_POS']"
   ]
  },
  {
   "cell_type": "code",
   "execution_count": 8,
   "id": "5a1de7be",
   "metadata": {},
   "outputs": [],
   "source": [
    "# followers\n",
    "fol = pd.read_csv('../00_EDA/screen_names_followers.csv', nrows=NROWS)\n",
    "\n",
    "train_test = train_test.merge(fol, on='screen_name', how='left')\n",
    "X['followers'] = train_test['followers']"
   ]
  },
  {
   "cell_type": "code",
   "execution_count": 9,
   "id": "38d91e24",
   "metadata": {},
   "outputs": [],
   "source": [
    "# separate train and test\n",
    "x_train = X.iloc[:ntrain,:]\n",
    "x_test = X.iloc[ntrain:,:]"
   ]
  },
  {
   "cell_type": "code",
   "execution_count": 10,
   "id": "ef6b556d",
   "metadata": {},
   "outputs": [
    {
     "name": "stderr",
     "output_type": "stream",
     "text": [
      "C:\\Users\\kkudo\\AppData\\Local\\Temp\\ipykernel_3056\\1959937025.py:31: SettingWithCopyWarning: \n",
      "A value is trying to be set on a copy of a slice from a DataFrame.\n",
      "Try using .loc[row_indexer,col_indexer] = value instead\n",
      "\n",
      "See the caveats in the documentation: https://pandas.pydata.org/pandas-docs/stable/user_guide/indexing.html#returning-a-view-versus-a-copy\n",
      "  x_train['oof_screen_name'] = oof_train\n",
      "C:\\Users\\kkudo\\AppData\\Local\\Temp\\ipykernel_3056\\1959937025.py:32: SettingWithCopyWarning: \n",
      "A value is trying to be set on a copy of a slice from a DataFrame.\n",
      "Try using .loc[row_indexer,col_indexer] = value instead\n",
      "\n",
      "See the caveats in the documentation: https://pandas.pydata.org/pandas-docs/stable/user_guide/indexing.html#returning-a-view-versus-a-copy\n",
      "  x_test['oof_screen_name'] = oof_test\n"
     ]
    }
   ],
   "source": [
    "## OOF target\n",
    "oof_nfolds = 20\n",
    "\n",
    "kfold = KFold(n_splits=oof_nfolds, random_state=SEED, shuffle=True)\n",
    "\n",
    "oof_train = np.zeros((ntrain,))\n",
    "oof_test = np.zeros((ntest,))\n",
    "oof_test_skf = np.empty((oof_nfolds, ntest))\n",
    "\n",
    "\n",
    "for fold_id, (train_idx, valid_idx) in enumerate(kfold.split(train_df)):\n",
    "    tr_df = train_df.iloc[train_idx]\n",
    "    vl_df = train_df.iloc[valid_idx]\n",
    "    \n",
    "    # screen_name\n",
    "    tmp = tr_df.groupby(['screen_name'])[TARGET].mean()\n",
    "    tmp = pd.DataFrame(tmp).reset_index().rename(columns={TARGET: 'oof_screen_name'})\n",
    "    tmp_mean = tr_df[TARGET].mean()\n",
    "    \n",
    "    a = vl_df[[ID,'screen_name']].merge(tmp, on='screen_name', how='left')\n",
    "    a['oof_screen_name'] = a['oof_screen_name'].fillna(tmp_mean)\n",
    "    oof_train[valid_idx] = a['oof_screen_name']\n",
    "    \n",
    "    a = test_not_in_train[[ID,'screen_name']].merge(tmp, on='screen_name', how='left')\n",
    "    a['oof_screen_name'] = a['oof_screen_name'].fillna(tmp_mean)\n",
    "    oof_test_skf[fold_id, :] = a['oof_screen_name']\n",
    "    \n",
    "oof_test[:] = oof_test_skf.mean(axis=0)\n",
    "\n",
    "\n",
    "x_train['oof_screen_name'] = oof_train\n",
    "x_test['oof_screen_name'] = oof_test"
   ]
  },
  {
   "cell_type": "markdown",
   "id": "b88281f5",
   "metadata": {},
   "source": [
    "# 5. Cross Validation"
   ]
  },
  {
   "cell_type": "code",
   "execution_count": 11,
   "id": "a5f93b3d",
   "metadata": {
    "scrolled": false
   },
   "outputs": [
    {
     "name": "stdout",
     "output_type": "stream",
     "text": [
      "\n",
      "Fold 1 / 10\n",
      "[0]\ttrain-poisson-nloglik:949.27530\ttrain-rmse:1025.93579\teval-poisson-nloglik:884.40466\teval-rmse:760.00952\n"
     ]
    },
    {
     "name": "stderr",
     "output_type": "stream",
     "text": [
      "D:\\Programs\\anaconda3\\lib\\site-packages\\sklearn\\model_selection\\_split.py:676: UserWarning: The least populated class in y has only 1 members, which is less than n_splits=10.\n",
      "  warnings.warn(\n"
     ]
    },
    {
     "name": "stdout",
     "output_type": "stream",
     "text": [
      "[100]\ttrain-poisson-nloglik:858.26423\ttrain-rmse:1025.87097\teval-poisson-nloglik:797.89381\teval-rmse:759.92657\n",
      "[200]\ttrain-poisson-nloglik:767.75588\ttrain-rmse:1025.74158\teval-poisson-nloglik:711.87805\teval-rmse:759.76038\n",
      "[300]\ttrain-poisson-nloglik:678.02997\ttrain-rmse:1025.48315\teval-poisson-nloglik:626.72030\teval-rmse:759.42920\n",
      "[400]\ttrain-poisson-nloglik:589.71776\ttrain-rmse:1024.97107\teval-poisson-nloglik:543.06704\teval-rmse:758.77411\n",
      "[500]\ttrain-poisson-nloglik:503.42400\ttrain-rmse:1023.96460\teval-poisson-nloglik:462.15351\teval-rmse:757.49988\n",
      "[600]\ttrain-poisson-nloglik:420.19726\ttrain-rmse:1022.01154\teval-poisson-nloglik:384.92796\teval-rmse:755.05444\n",
      "[700]\ttrain-poisson-nloglik:341.22982\ttrain-rmse:1018.28314\teval-poisson-nloglik:312.78658\teval-rmse:750.46521\n",
      "[800]\ttrain-poisson-nloglik:268.23716\ttrain-rmse:1011.35553\teval-poisson-nloglik:247.40910\teval-rmse:742.11127\n",
      "[900]\ttrain-poisson-nloglik:202.82875\ttrain-rmse:998.84839\teval-poisson-nloglik:190.93671\teval-rmse:727.53796\n",
      "[1000]\ttrain-poisson-nloglik:146.22082\ttrain-rmse:977.12347\teval-poisson-nloglik:147.88028\teval-rmse:705.28992\n",
      "[1100]\ttrain-poisson-nloglik:99.12136\ttrain-rmse:940.90515\teval-poisson-nloglik:115.82580\teval-rmse:672.60284\n",
      "[1200]\ttrain-poisson-nloglik:62.85730\ttrain-rmse:885.28528\teval-poisson-nloglik:96.39268\teval-rmse:634.82513\n",
      "[1300]\ttrain-poisson-nloglik:39.20658\ttrain-rmse:812.69849\teval-poisson-nloglik:87.96505\teval-rmse:604.73499\n",
      "[1400]\ttrain-poisson-nloglik:24.42055\ttrain-rmse:723.25446\teval-poisson-nloglik:85.21627\teval-rmse:590.32147\n",
      "[1500]\ttrain-poisson-nloglik:16.16753\ttrain-rmse:626.87219\teval-poisson-nloglik:84.15925\teval-rmse:583.14941\n",
      "[1600]\ttrain-poisson-nloglik:10.93283\ttrain-rmse:499.26956\teval-poisson-nloglik:84.02513\teval-rmse:581.04224\n",
      "[1700]\ttrain-poisson-nloglik:7.92559\ttrain-rmse:335.94369\teval-poisson-nloglik:84.27580\teval-rmse:580.64819\n",
      "[1729]\ttrain-poisson-nloglik:7.42179\ttrain-rmse:293.91418\teval-poisson-nloglik:84.33910\teval-rmse:580.75897\n"
     ]
    },
    {
     "name": "stderr",
     "output_type": "stream",
     "text": [
      "D:\\Programs\\anaconda3\\lib\\site-packages\\xgboost\\core.py:90: UserWarning: ntree_limit is deprecated, use `iteration_range` or model slicing instead.\n",
      "  warnings.warn(\n"
     ]
    },
    {
     "name": "stdout",
     "output_type": "stream",
     "text": [
      "\n",
      "Fold 2 / 10\n",
      "[0]\ttrain-poisson-nloglik:938.32592\ttrain-rmse:1019.67548\teval-poisson-nloglik:982.92804\teval-rmse:832.37323\n",
      "[100]\ttrain-poisson-nloglik:848.16996\ttrain-rmse:1019.61096\teval-poisson-nloglik:889.16598\teval-rmse:832.29114\n",
      "[200]\ttrain-poisson-nloglik:758.49228\ttrain-rmse:1019.48193\teval-poisson-nloglik:796.18803\teval-rmse:832.12707\n",
      "[300]\ttrain-poisson-nloglik:669.61666\ttrain-rmse:1019.22430\teval-poisson-nloglik:704.09617\teval-rmse:831.80029\n",
      "[400]\ttrain-poisson-nloglik:582.16989\ttrain-rmse:1018.71417\teval-poisson-nloglik:613.38126\teval-rmse:831.15289\n",
      "[500]\ttrain-poisson-nloglik:496.74403\ttrain-rmse:1017.71130\teval-poisson-nloglik:525.09146\teval-rmse:829.88586\n",
      "[600]\ttrain-poisson-nloglik:414.35189\ttrain-rmse:1015.76556\teval-poisson-nloglik:440.85120\teval-rmse:827.45727\n",
      "[700]\ttrain-poisson-nloglik:336.17254\ttrain-rmse:1012.05005\teval-poisson-nloglik:361.35591\teval-rmse:822.85205\n",
      "[800]\ttrain-poisson-nloglik:263.91953\ttrain-rmse:1005.14380\teval-poisson-nloglik:289.39657\teval-rmse:814.45502\n",
      "[900]\ttrain-poisson-nloglik:199.22340\ttrain-rmse:992.68042\teval-poisson-nloglik:226.65154\teval-rmse:799.59094\n",
      "[1000]\ttrain-poisson-nloglik:143.25652\ttrain-rmse:971.00812\teval-poisson-nloglik:175.26619\teval-rmse:775.01337\n",
      "[1100]\ttrain-poisson-nloglik:96.57439\ttrain-rmse:934.73981\teval-poisson-nloglik:139.62946\teval-rmse:741.23590\n",
      "[1200]\ttrain-poisson-nloglik:61.32113\ttrain-rmse:880.12543\teval-poisson-nloglik:118.51426\teval-rmse:704.40985\n",
      "[1300]\ttrain-poisson-nloglik:38.06043\ttrain-rmse:808.15826\teval-poisson-nloglik:111.49108\teval-rmse:685.92346\n",
      "[1400]\ttrain-poisson-nloglik:23.74605\ttrain-rmse:720.73572\teval-poisson-nloglik:109.77374\teval-rmse:679.56830\n",
      "[1500]\ttrain-poisson-nloglik:15.58572\ttrain-rmse:622.91596\teval-poisson-nloglik:109.60533\teval-rmse:677.92200\n",
      "[1528]\ttrain-poisson-nloglik:13.92742\ttrain-rmse:591.45184\teval-poisson-nloglik:109.83327\teval-rmse:677.91882\n"
     ]
    },
    {
     "name": "stderr",
     "output_type": "stream",
     "text": [
      "D:\\Programs\\anaconda3\\lib\\site-packages\\xgboost\\core.py:90: UserWarning: ntree_limit is deprecated, use `iteration_range` or model slicing instead.\n",
      "  warnings.warn(\n"
     ]
    },
    {
     "name": "stdout",
     "output_type": "stream",
     "text": [
      "\n",
      "Fold 3 / 10\n",
      "[0]\ttrain-poisson-nloglik:951.07774\ttrain-rmse:1032.70996\teval-poisson-nloglik:868.17375\teval-rmse:672.40625\n",
      "[100]\ttrain-poisson-nloglik:860.01737\ttrain-rmse:1032.64563\teval-poisson-nloglik:782.11909\teval-rmse:672.31287\n",
      "[200]\ttrain-poisson-nloglik:769.45673\ttrain-rmse:1032.51697\teval-poisson-nloglik:696.56357\teval-rmse:672.12604\n",
      "[300]\ttrain-poisson-nloglik:679.68724\ttrain-rmse:1032.26013\teval-poisson-nloglik:611.90086\teval-rmse:671.75384\n",
      "[400]\ttrain-poisson-nloglik:591.32916\ttrain-rmse:1031.75122\teval-poisson-nloglik:528.74896\teval-rmse:671.01776\n",
      "[500]\ttrain-poisson-nloglik:504.99326\ttrain-rmse:1030.75085\teval-poisson-nloglik:448.10393\teval-rmse:669.58173\n",
      "[600]\ttrain-poisson-nloglik:421.72558\ttrain-rmse:1028.80994\teval-poisson-nloglik:371.66976\teval-rmse:666.84888\n",
      "[700]\ttrain-poisson-nloglik:342.61587\ttrain-rmse:1025.09973\teval-poisson-nloglik:300.42243\teval-rmse:661.72662\n",
      "[800]\ttrain-poisson-nloglik:269.41395\ttrain-rmse:1018.19367\teval-poisson-nloglik:237.24742\teval-rmse:652.62915\n",
      "[900]\ttrain-poisson-nloglik:203.70733\ttrain-rmse:1005.70465\teval-poisson-nloglik:182.67369\teval-rmse:636.83014\n",
      "[1000]\ttrain-poisson-nloglik:146.92837\ttrain-rmse:984.00629\teval-poisson-nloglik:138.50540\teval-rmse:611.25855\n",
      "[1100]\ttrain-poisson-nloglik:99.54069\ttrain-rmse:947.66852\teval-poisson-nloglik:109.18674\teval-rmse:577.93921\n",
      "[1200]\ttrain-poisson-nloglik:63.57305\ttrain-rmse:892.37940\teval-poisson-nloglik:94.33131\teval-rmse:546.84314\n",
      "[1300]\ttrain-poisson-nloglik:39.52489\ttrain-rmse:818.58594\teval-poisson-nloglik:88.25631\teval-rmse:530.24683\n",
      "[1400]\ttrain-poisson-nloglik:24.46179\ttrain-rmse:727.13422\teval-poisson-nloglik:85.24277\teval-rmse:521.57422\n",
      "[1500]\ttrain-poisson-nloglik:15.88186\ttrain-rmse:624.80005\teval-poisson-nloglik:84.52372\teval-rmse:518.44202\n",
      "[1600]\ttrain-poisson-nloglik:10.75008\ttrain-rmse:500.00983\teval-poisson-nloglik:84.78389\teval-rmse:517.65845\n",
      "[1637]\ttrain-poisson-nloglik:9.43345\ttrain-rmse:445.28940\teval-poisson-nloglik:85.07038\teval-rmse:518.01538\n"
     ]
    },
    {
     "name": "stderr",
     "output_type": "stream",
     "text": [
      "D:\\Programs\\anaconda3\\lib\\site-packages\\xgboost\\core.py:90: UserWarning: ntree_limit is deprecated, use `iteration_range` or model slicing instead.\n",
      "  warnings.warn(\n"
     ]
    },
    {
     "name": "stdout",
     "output_type": "stream",
     "text": [
      "\n",
      "Fold 4 / 10\n",
      "[0]\ttrain-poisson-nloglik:919.04408\ttrain-rmse:847.64319\teval-poisson-nloglik:1156.41626\teval-rmse:1892.98499\n",
      "[100]\ttrain-poisson-nloglik:829.80895\ttrain-rmse:847.56634\teval-poisson-nloglik:1053.95706\teval-rmse:1892.94531\n",
      "[200]\ttrain-poisson-nloglik:741.06926\ttrain-rmse:847.41272\teval-poisson-nloglik:952.01789\teval-rmse:1892.86621\n",
      "[300]\ttrain-poisson-nloglik:653.11527\ttrain-rmse:847.10608\teval-poisson-nloglik:850.98748\teval-rmse:1892.70862\n",
      "[400]\ttrain-poisson-nloglik:566.56084\ttrain-rmse:846.49853\teval-poisson-nloglik:751.43506\teval-rmse:1892.39600\n",
      "[500]\ttrain-poisson-nloglik:482.06614\ttrain-rmse:845.30469\teval-poisson-nloglik:654.39239\teval-rmse:1891.78284\n",
      "[600]\ttrain-poisson-nloglik:400.60122\ttrain-rmse:842.98810\teval-poisson-nloglik:560.96097\teval-rmse:1890.59912\n",
      "[700]\ttrain-poisson-nloglik:323.40785\ttrain-rmse:838.56616\teval-poisson-nloglik:472.53965\teval-rmse:1888.35217\n",
      "[800]\ttrain-poisson-nloglik:252.05333\ttrain-rmse:830.33032\teval-poisson-nloglik:390.83418\teval-rmse:1884.18848\n",
      "[900]\ttrain-poisson-nloglik:188.33588\ttrain-rmse:815.43426\teval-poisson-nloglik:318.41987\teval-rmse:1876.80017\n",
      "[1000]\ttrain-poisson-nloglik:133.60729\ttrain-rmse:789.55579\teval-poisson-nloglik:257.17086\teval-rmse:1864.41199\n",
      "[1100]\ttrain-poisson-nloglik:88.29370\ttrain-rmse:746.00708\teval-poisson-nloglik:210.67142\teval-rmse:1846.26148\n",
      "[1200]\ttrain-poisson-nloglik:54.01590\ttrain-rmse:678.91467\teval-poisson-nloglik:177.44877\teval-rmse:1822.73474\n",
      "[1300]\ttrain-poisson-nloglik:31.60305\ttrain-rmse:589.38177\teval-poisson-nloglik:160.64792\teval-rmse:1805.40491\n",
      "[1400]\ttrain-poisson-nloglik:18.79452\ttrain-rmse:484.23099\teval-poisson-nloglik:155.60317\teval-rmse:1799.07202\n",
      "[1500]\ttrain-poisson-nloglik:12.16051\ttrain-rmse:375.72833\teval-poisson-nloglik:151.08605\teval-rmse:1793.07275\n",
      "[1562]\ttrain-poisson-nloglik:9.74328\ttrain-rmse:304.90057\teval-poisson-nloglik:151.28168\teval-rmse:1793.22583\n"
     ]
    },
    {
     "name": "stderr",
     "output_type": "stream",
     "text": [
      "D:\\Programs\\anaconda3\\lib\\site-packages\\xgboost\\core.py:90: UserWarning: ntree_limit is deprecated, use `iteration_range` or model slicing instead.\n",
      "  warnings.warn(\n"
     ]
    },
    {
     "name": "stdout",
     "output_type": "stream",
     "text": [
      "\n",
      "Fold 5 / 10\n",
      "[0]\ttrain-poisson-nloglik:946.32944\ttrain-rmse:1004.41742\teval-poisson-nloglik:910.89948\teval-rmse:985.26172\n",
      "[100]\ttrain-poisson-nloglik:855.37984\ttrain-rmse:1004.35138\teval-poisson-nloglik:823.84509\teval-rmse:985.19721\n",
      "[200]\ttrain-poisson-nloglik:764.92508\ttrain-rmse:1004.21918\teval-poisson-nloglik:737.29652\teval-rmse:985.06824\n",
      "[300]\ttrain-poisson-nloglik:675.25889\ttrain-rmse:1003.95544\teval-poisson-nloglik:651.63954\teval-rmse:984.81140\n",
      "[400]\ttrain-poisson-nloglik:587.00455\ttrain-rmse:1003.43280\teval-poisson-nloglik:567.51061\teval-rmse:984.30365\n",
      "[500]\ttrain-poisson-nloglik:500.81339\ttrain-rmse:1002.40582\teval-poisson-nloglik:485.70391\teval-rmse:983.31067\n",
      "[600]\ttrain-poisson-nloglik:417.66431\ttrain-rmse:1000.41272\teval-poisson-nloglik:407.42098\teval-rmse:981.40204\n",
      "[700]\ttrain-poisson-nloglik:338.72712\ttrain-rmse:996.60529\teval-poisson-nloglik:334.29983\teval-rmse:977.82239\n",
      "[800]\ttrain-poisson-nloglik:265.63106\ttrain-rmse:989.51038\teval-poisson-nloglik:272.10628\teval-rmse:971.80151\n",
      "[900]\ttrain-poisson-nloglik:200.09850\ttrain-rmse:976.68121\teval-poisson-nloglik:220.69466\teval-rmse:961.92566\n",
      "[1000]\ttrain-poisson-nloglik:143.59498\ttrain-rmse:954.40472\teval-poisson-nloglik:181.97947\teval-rmse:946.89905\n",
      "[1100]\ttrain-poisson-nloglik:96.57963\ttrain-rmse:917.15143\teval-poisson-nloglik:155.19691\teval-rmse:926.21039\n",
      "[1200]\ttrain-poisson-nloglik:60.71489\ttrain-rmse:860.14410\teval-poisson-nloglik:141.27055\teval-rmse:908.68988\n",
      "[1300]\ttrain-poisson-nloglik:37.25506\ttrain-rmse:785.76349\teval-poisson-nloglik:131.48281\teval-rmse:896.37054\n",
      "[1400]\ttrain-poisson-nloglik:22.83555\ttrain-rmse:696.58490\teval-poisson-nloglik:125.30043\teval-rmse:878.60455\n",
      "[1500]\ttrain-poisson-nloglik:14.93670\ttrain-rmse:602.71106\teval-poisson-nloglik:120.51071\teval-rmse:860.89130\n",
      "[1600]\ttrain-poisson-nloglik:10.01200\ttrain-rmse:476.92429\teval-poisson-nloglik:119.29289\teval-rmse:857.49280\n",
      "[1685]\ttrain-poisson-nloglik:7.51556\ttrain-rmse:341.09976\teval-poisson-nloglik:119.20141\teval-rmse:856.85510\n"
     ]
    },
    {
     "name": "stderr",
     "output_type": "stream",
     "text": [
      "D:\\Programs\\anaconda3\\lib\\site-packages\\xgboost\\core.py:90: UserWarning: ntree_limit is deprecated, use `iteration_range` or model slicing instead.\n",
      "  warnings.warn(\n"
     ]
    },
    {
     "name": "stdout",
     "output_type": "stream",
     "text": [
      "\n",
      "Fold 6 / 10\n",
      "[0]\ttrain-poisson-nloglik:939.16737\ttrain-rmse:1015.04944\teval-poisson-nloglik:975.35824\teval-rmse:881.72900\n",
      "[100]\ttrain-poisson-nloglik:848.87152\ttrain-rmse:1014.98456\teval-poisson-nloglik:882.44900\teval-rmse:881.65222\n",
      "[200]\ttrain-poisson-nloglik:759.06926\ttrain-rmse:1014.85480\teval-poisson-nloglik:790.04380\teval-rmse:881.49829\n",
      "[300]\ttrain-poisson-nloglik:670.03788\ttrain-rmse:1014.59552\teval-poisson-nloglik:698.58887\teval-rmse:881.19183\n",
      "[400]\ttrain-poisson-nloglik:582.44131\ttrain-rmse:1014.08234\teval-poisson-nloglik:608.70280\teval-rmse:880.58539\n",
      "[500]\ttrain-poisson-nloglik:496.92137\ttrain-rmse:1013.07367\teval-poisson-nloglik:521.13676\teval-rmse:879.39618\n",
      "[600]\ttrain-poisson-nloglik:414.41617\ttrain-rmse:1011.11700\teval-poisson-nloglik:437.06200\teval-rmse:877.10010\n",
      "[700]\ttrain-poisson-nloglik:336.05117\ttrain-rmse:1007.37946\teval-poisson-nloglik:357.81902\teval-rmse:872.74884\n",
      "[800]\ttrain-poisson-nloglik:263.53508\ttrain-rmse:1000.42987\teval-poisson-nloglik:285.17624\teval-rmse:864.71790\n",
      "[900]\ttrain-poisson-nloglik:198.67357\ttrain-rmse:987.88379\teval-poisson-nloglik:221.41200\teval-rmse:850.51703\n",
      "[1000]\ttrain-poisson-nloglik:142.82402\ttrain-rmse:966.14789\teval-poisson-nloglik:172.32723\teval-rmse:829.01422\n",
      "[1100]\ttrain-poisson-nloglik:96.61636\ttrain-rmse:930.01758\teval-poisson-nloglik:134.13684\teval-rmse:796.49945\n",
      "[1200]\ttrain-poisson-nloglik:61.60012\ttrain-rmse:875.50812\teval-poisson-nloglik:109.44391\teval-rmse:757.23554\n",
      "[1300]\ttrain-poisson-nloglik:38.32075\ttrain-rmse:803.31720\teval-poisson-nloglik:98.22118\teval-rmse:728.02191\n",
      "[1400]\ttrain-poisson-nloglik:23.94404\ttrain-rmse:715.33069\teval-poisson-nloglik:88.65089\teval-rmse:698.38373\n",
      "[1500]\ttrain-poisson-nloglik:15.78899\ttrain-rmse:618.69092\teval-poisson-nloglik:82.77634\teval-rmse:672.74200\n",
      "[1600]\ttrain-poisson-nloglik:10.56663\ttrain-rmse:483.50809\teval-poisson-nloglik:80.05598\teval-rmse:658.27435\n",
      "[1700]\ttrain-poisson-nloglik:7.72464\ttrain-rmse:323.61212\teval-poisson-nloglik:79.25943\teval-rmse:651.99249\n",
      "[1800]\ttrain-poisson-nloglik:6.41333\ttrain-rmse:205.79283\teval-poisson-nloglik:78.61456\teval-rmse:648.17682\n",
      "[1900]\ttrain-poisson-nloglik:5.71364\ttrain-rmse:139.75778\teval-poisson-nloglik:78.88491\teval-rmse:647.90649\n",
      "[1942]\ttrain-poisson-nloglik:5.50035\ttrain-rmse:119.28445\teval-poisson-nloglik:78.95303\teval-rmse:647.77551\n"
     ]
    },
    {
     "name": "stderr",
     "output_type": "stream",
     "text": [
      "D:\\Programs\\anaconda3\\lib\\site-packages\\xgboost\\core.py:90: UserWarning: ntree_limit is deprecated, use `iteration_range` or model slicing instead.\n",
      "  warnings.warn(\n"
     ]
    },
    {
     "name": "stdout",
     "output_type": "stream",
     "text": [
      "\n",
      "Fold 7 / 10\n",
      "[0]\ttrain-poisson-nloglik:957.43338\ttrain-rmse:1036.40772\teval-poisson-nloglik:810.92960\teval-rmse:618.88983\n",
      "[100]\ttrain-poisson-nloglik:865.90588\ttrain-rmse:1036.34326\teval-poisson-nloglik:729.17521\teval-rmse:618.79358\n",
      "[200]\ttrain-poisson-nloglik:774.86334\ttrain-rmse:1036.21436\teval-poisson-nloglik:647.97372\teval-rmse:618.60095\n",
      "[300]\ttrain-poisson-nloglik:684.59252\ttrain-rmse:1035.95703\teval-poisson-nloglik:567.73357\teval-rmse:618.21820\n",
      "[400]\ttrain-poisson-nloglik:595.74894\ttrain-rmse:1035.44714\teval-poisson-nloglik:489.35917\teval-rmse:617.46576\n",
      "[500]\ttrain-poisson-nloglik:508.98313\ttrain-rmse:1034.44482\teval-poisson-nloglik:413.54846\teval-rmse:616.00049\n",
      "[600]\ttrain-poisson-nloglik:425.24884\ttrain-rmse:1032.50000\teval-poisson-nloglik:342.10770\teval-rmse:613.22790\n",
      "[700]\ttrain-poisson-nloglik:345.72380\ttrain-rmse:1028.78406\teval-poisson-nloglik:276.00108\teval-rmse:608.07336\n",
      "[800]\ttrain-poisson-nloglik:271.97916\ttrain-rmse:1021.86285\teval-poisson-nloglik:216.96320\teval-rmse:598.80469\n",
      "[900]\ttrain-poisson-nloglik:205.78448\ttrain-rmse:1009.31958\teval-poisson-nloglik:166.84351\teval-rmse:582.95465\n",
      "[1000]\ttrain-poisson-nloglik:148.74079\ttrain-rmse:987.55890\teval-poisson-nloglik:128.54557\teval-rmse:558.35974\n",
      "[1100]\ttrain-poisson-nloglik:101.25384\ttrain-rmse:951.22882\teval-poisson-nloglik:102.41279\teval-rmse:525.00055\n",
      "[1200]\ttrain-poisson-nloglik:64.49474\ttrain-rmse:895.03021\teval-poisson-nloglik:88.15831\teval-rmse:492.06659\n",
      "[1300]\ttrain-poisson-nloglik:40.15305\ttrain-rmse:820.98798\teval-poisson-nloglik:82.26370\teval-rmse:472.55310\n",
      "[1400]\ttrain-poisson-nloglik:25.01542\ttrain-rmse:730.33081\teval-poisson-nloglik:80.62225\teval-rmse:465.08737\n",
      "[1500]\ttrain-poisson-nloglik:16.31389\ttrain-rmse:631.30359\teval-poisson-nloglik:80.09057\teval-rmse:461.74097\n",
      "[1600]\ttrain-poisson-nloglik:10.92927\ttrain-rmse:504.30542\teval-poisson-nloglik:80.29154\teval-rmse:461.33133\n",
      "[1619]\ttrain-poisson-nloglik:10.18294\ttrain-rmse:475.86954\teval-poisson-nloglik:80.34448\teval-rmse:461.28882\n"
     ]
    },
    {
     "name": "stderr",
     "output_type": "stream",
     "text": [
      "D:\\Programs\\anaconda3\\lib\\site-packages\\xgboost\\core.py:90: UserWarning: ntree_limit is deprecated, use `iteration_range` or model slicing instead.\n",
      "  warnings.warn(\n"
     ]
    },
    {
     "name": "stdout",
     "output_type": "stream",
     "text": [
      "\n",
      "Fold 8 / 10\n",
      "[0]\ttrain-poisson-nloglik:962.20131\ttrain-rmse:1038.55774\teval-poisson-nloglik:768.00931\teval-rmse:585.54565\n",
      "[100]\ttrain-poisson-nloglik:870.30751\ttrain-rmse:1038.49329\teval-poisson-nloglik:689.46609\teval-rmse:585.44788\n",
      "[200]\ttrain-poisson-nloglik:778.91757\ttrain-rmse:1038.36401\teval-poisson-nloglik:611.42415\teval-rmse:585.25214\n",
      "[300]\ttrain-poisson-nloglik:688.30154\ttrain-rmse:1038.10632\teval-poisson-nloglik:534.25003\teval-rmse:584.86255\n",
      "[400]\ttrain-poisson-nloglik:599.11938\ttrain-rmse:1037.59558\teval-poisson-nloglik:458.58795\teval-rmse:584.09302\n",
      "[500]\ttrain-poisson-nloglik:512.00217\ttrain-rmse:1036.59131\teval-poisson-nloglik:385.27515\teval-rmse:582.59143\n",
      "[600]\ttrain-poisson-nloglik:427.91579\ttrain-rmse:1034.64258\teval-poisson-nloglik:315.95310\teval-rmse:579.73828\n",
      "[700]\ttrain-poisson-nloglik:348.06325\ttrain-rmse:1030.91956\teval-poisson-nloglik:252.62702\teval-rmse:574.49927\n",
      "[800]\ttrain-poisson-nloglik:273.93240\ttrain-rmse:1023.97675\teval-poisson-nloglik:196.15433\teval-rmse:565.08698\n",
      "[900]\ttrain-poisson-nloglik:207.44688\ttrain-rmse:1011.40820\teval-poisson-nloglik:148.25426\teval-rmse:548.80603\n",
      "[1000]\ttrain-poisson-nloglik:149.92426\ttrain-rmse:989.53650\teval-poisson-nloglik:112.38580\teval-rmse:524.25720\n",
      "[1100]\ttrain-poisson-nloglik:101.72239\ttrain-rmse:952.73822\teval-poisson-nloglik:90.15866\teval-rmse:494.43381\n",
      "[1200]\ttrain-poisson-nloglik:64.68713\ttrain-rmse:896.22552\teval-poisson-nloglik:78.14378\teval-rmse:463.79288\n",
      "[1300]\ttrain-poisson-nloglik:40.11751\ttrain-rmse:821.48743\teval-poisson-nloglik:73.71898\teval-rmse:446.93387\n",
      "[1400]\ttrain-poisson-nloglik:25.00005\ttrain-rmse:731.14331\teval-poisson-nloglik:71.82778\teval-rmse:438.29791\n",
      "[1500]\ttrain-poisson-nloglik:16.32295\ttrain-rmse:631.53931\teval-poisson-nloglik:70.39514\teval-rmse:432.03360\n",
      "[1600]\ttrain-poisson-nloglik:10.83241\ttrain-rmse:497.03433\teval-poisson-nloglik:69.94419\teval-rmse:428.98801\n",
      "[1667]\ttrain-poisson-nloglik:8.56653\ttrain-rmse:385.39102\teval-poisson-nloglik:70.26847\teval-rmse:429.15314\n"
     ]
    },
    {
     "name": "stderr",
     "output_type": "stream",
     "text": [
      "D:\\Programs\\anaconda3\\lib\\site-packages\\xgboost\\core.py:90: UserWarning: ntree_limit is deprecated, use `iteration_range` or model slicing instead.\n",
      "  warnings.warn(\n"
     ]
    },
    {
     "name": "stdout",
     "output_type": "stream",
     "text": [
      "\n",
      "Fold 9 / 10\n",
      "[0]\ttrain-poisson-nloglik:922.44832\ttrain-rmse:961.22894\teval-poisson-nloglik:1125.86126\teval-rmse:1317.16589\n",
      "[100]\ttrain-poisson-nloglik:833.35770\ttrain-rmse:961.16132\teval-poisson-nloglik:1022.06237\teval-rmse:1317.10840\n",
      "[200]\ttrain-poisson-nloglik:744.76817\ttrain-rmse:961.02606\teval-poisson-nloglik:918.76054\teval-rmse:1316.99329\n",
      "[300]\ttrain-poisson-nloglik:656.94770\ttrain-rmse:960.75610\teval-poisson-nloglik:816.34189\teval-rmse:1316.76355\n",
      "[400]\ttrain-poisson-nloglik:570.56446\ttrain-rmse:960.22162\teval-poisson-nloglik:715.42343\teval-rmse:1316.30774\n",
      "[500]\ttrain-poisson-nloglik:486.25331\ttrain-rmse:959.17133\teval-poisson-nloglik:616.79869\teval-rmse:1315.41125\n",
      "[600]\ttrain-poisson-nloglik:404.92988\ttrain-rmse:957.13440\teval-poisson-nloglik:521.82961\teval-rmse:1313.67810\n",
      "[700]\ttrain-poisson-nloglik:327.79442\ttrain-rmse:953.24725\teval-poisson-nloglik:432.47421\teval-rmse:1310.41089\n",
      "[800]\ttrain-poisson-nloglik:256.50833\ttrain-rmse:946.03033\teval-poisson-nloglik:349.97262\teval-rmse:1304.38037\n",
      "[900]\ttrain-poisson-nloglik:192.87713\ttrain-rmse:933.00934\teval-poisson-nloglik:277.19155\teval-rmse:1293.74487\n",
      "[1000]\ttrain-poisson-nloglik:138.21673\ttrain-rmse:910.46100\teval-poisson-nloglik:216.26790\teval-rmse:1276.18079\n",
      "[1100]\ttrain-poisson-nloglik:92.72807\ttrain-rmse:872.70709\teval-poisson-nloglik:168.96224\teval-rmse:1249.47400\n",
      "[1200]\ttrain-poisson-nloglik:58.09363\ttrain-rmse:815.17615\teval-poisson-nloglik:139.76610\teval-rmse:1219.35669\n",
      "[1300]\ttrain-poisson-nloglik:35.37267\ttrain-rmse:739.99866\teval-poisson-nloglik:126.44308\teval-rmse:1196.30408\n",
      "[1400]\ttrain-poisson-nloglik:21.72048\ttrain-rmse:652.15100\teval-poisson-nloglik:115.81743\teval-rmse:1166.68811\n",
      "[1500]\ttrain-poisson-nloglik:14.36148\ttrain-rmse:565.41473\teval-poisson-nloglik:112.02201\teval-rmse:1149.21265\n",
      "[1600]\ttrain-poisson-nloglik:9.99318\ttrain-rmse:464.11008\teval-poisson-nloglik:112.05188\teval-rmse:1146.16540\n",
      "[1700]\ttrain-poisson-nloglik:7.22732\ttrain-rmse:315.19955\teval-poisson-nloglik:112.52656\teval-rmse:1145.35681\n",
      "[1702]\ttrain-poisson-nloglik:7.19178\ttrain-rmse:312.17947\teval-poisson-nloglik:112.52633\teval-rmse:1145.28418\n"
     ]
    },
    {
     "name": "stderr",
     "output_type": "stream",
     "text": [
      "D:\\Programs\\anaconda3\\lib\\site-packages\\xgboost\\core.py:90: UserWarning: ntree_limit is deprecated, use `iteration_range` or model slicing instead.\n",
      "  warnings.warn(\n"
     ]
    },
    {
     "name": "stdout",
     "output_type": "stream",
     "text": [
      "\n",
      "Fold 10 / 10\n",
      "[0]\ttrain-poisson-nloglik:942.55580\ttrain-rmse:1028.23230\teval-poisson-nloglik:944.85638\teval-rmse:731.41510\n",
      "[100]\ttrain-poisson-nloglik:852.18109\ttrain-rmse:1028.16834\teval-poisson-nloglik:852.63644\teval-rmse:731.32324\n",
      "[200]\ttrain-poisson-nloglik:762.28286\ttrain-rmse:1028.03992\teval-poisson-nloglik:761.27185\teval-rmse:731.14001\n",
      "[300]\ttrain-poisson-nloglik:673.17267\ttrain-rmse:1027.78381\teval-poisson-nloglik:671.06191\teval-rmse:730.77576\n",
      "[400]\ttrain-poisson-nloglik:585.41217\ttrain-rmse:1027.27612\teval-poisson-nloglik:583.05445\teval-rmse:730.06128\n",
      "[500]\ttrain-poisson-nloglik:499.81783\ttrain-rmse:1026.27917\teval-poisson-nloglik:498.38455\teval-rmse:728.68408\n",
      "[600]\ttrain-poisson-nloglik:417.22729\ttrain-rmse:1024.34460\teval-poisson-nloglik:417.82811\teval-rmse:726.06006\n",
      "[700]\ttrain-poisson-nloglik:338.81830\ttrain-rmse:1020.64972\teval-poisson-nloglik:343.65677\teval-rmse:721.20526\n",
      "[800]\ttrain-poisson-nloglik:266.16101\ttrain-rmse:1013.76880\teval-poisson-nloglik:278.95482\teval-rmse:712.70435\n",
      "[900]\ttrain-poisson-nloglik:201.12100\ttrain-rmse:1001.32971\teval-poisson-nloglik:225.15421\teval-rmse:698.62299\n",
      "[1000]\ttrain-poisson-nloglik:145.11576\ttrain-rmse:979.75305\teval-poisson-nloglik:183.25830\teval-rmse:676.72687\n",
      "[1100]\ttrain-poisson-nloglik:98.57693\ttrain-rmse:943.73346\teval-poisson-nloglik:153.27497\teval-rmse:645.36121\n",
      "[1200]\ttrain-poisson-nloglik:62.86585\ttrain-rmse:888.45544\teval-poisson-nloglik:136.96234\teval-rmse:612.14252\n",
      "[1300]\ttrain-poisson-nloglik:39.27696\ttrain-rmse:815.80127\teval-poisson-nloglik:131.00962\teval-rmse:594.16840\n",
      "[1400]\ttrain-poisson-nloglik:24.42278\ttrain-rmse:724.98157\teval-poisson-nloglik:127.90980\teval-rmse:583.49383\n",
      "[1500]\ttrain-poisson-nloglik:16.01779\ttrain-rmse:624.90497\teval-poisson-nloglik:126.69950\teval-rmse:578.04706\n",
      "[1600]\ttrain-poisson-nloglik:10.73986\ttrain-rmse:494.14383\teval-poisson-nloglik:126.65128\teval-rmse:576.06158\n",
      "[1650]\ttrain-poisson-nloglik:9.06208\ttrain-rmse:421.12210\teval-poisson-nloglik:127.00280\teval-rmse:576.08807\n"
     ]
    },
    {
     "name": "stderr",
     "output_type": "stream",
     "text": [
      "D:\\Programs\\anaconda3\\lib\\site-packages\\xgboost\\core.py:90: UserWarning: ntree_limit is deprecated, use `iteration_range` or model slicing instead.\n",
      "  warnings.warn(\n"
     ]
    },
    {
     "name": "stdout",
     "output_type": "stream",
     "text": [
      "\n",
      "OOF RMSE: 864.3699\n",
      "OOF RMSE in 0:24069:   200.7857\n",
      "OOF RMSE in 24069:END: 2780.4502\n"
     ]
    }
   ],
   "source": [
    "# modeling with cross validation\n",
    "kfold = StratifiedKFold(n_splits=NFOLDS, random_state=SEED, shuffle=True)\n",
    "\n",
    "oof_train = np.zeros((ntrain,))\n",
    "oof_test = np.zeros((ntest,))\n",
    "oof_test_skf = np.empty((NFOLDS, ntest))\n",
    "\n",
    "feat_imp = np.zeros((NFOLDS,x_train.shape[1]))\n",
    "\n",
    "d_test = xgb.DMatrix(x_test)\n",
    "\n",
    "for fold_id, (train_idx, valid_idx) in enumerate(kfold.split(x_train, y_train)):\n",
    "    \n",
    "    print(\"\\nFold %d / %d\" % (fold_id + 1, NFOLDS))\n",
    "\n",
    "    d_train = xgb.DMatrix(x_train.iloc[train_idx], label=y_train[train_idx])\n",
    "    d_valid = xgb.DMatrix(x_train.iloc[valid_idx], label=y_train[valid_idx])\n",
    "    watchlist = [(d_train, 'train'), (d_valid, 'eval')]\n",
    "\n",
    "    model = xgb.train(params,\n",
    "                      d_train,\n",
    "                      100000,\n",
    "                      evals=watchlist,\n",
    "                      verbose_eval = 100,\n",
    "                      early_stopping_rounds=50,\n",
    "#                       obj=fair_obj,\n",
    "                      custom_metric=xg_eval_rmse)\n",
    "    \n",
    "    oof_train[valid_idx] = model.predict(d_valid, ntree_limit=model.best_ntree_limit)\n",
    "    oof_test_skf[fold_id, :] = model.predict(d_test, ntree_limit=model.best_ntree_limit)\n",
    "\n",
    "    feat_imp_out = model.get_score(importance_type='gain')\n",
    "    for i,x in enumerate(model.get_score(importance_type='gain')):\n",
    "        feat_imp[fold_id,i] = feat_imp_out[x]\n",
    "    \n",
    "oof_test[:] = oof_test_skf.mean(axis=0)\n",
    "\n",
    "# fill negative with 0\n",
    "oof_train[oof_train<0] = 0\n",
    "oof_test[oof_test<0] = 0\n",
    "\n",
    "feat_imp = feat_imp.mean(axis=0)\n",
    "feat_imp = pd.DataFrame(sorted(zip(feat_imp, x_train.columns),reverse = True), columns=['Gain','Feature'])\n",
    "feat_imp.to_csv(output_featimp, index=False)\n",
    "\n",
    "# OOF RMSE\n",
    "print('\\nOOF RMSE: {:.4f}'.format(rmse(oof_train, y_train)))\n",
    "\n",
    "print('OOF RMSE in 0:24069:   {:.4f}'.format(rmse(oof_train[0:24069], y_train[0:24069])))\n",
    "print('OOF RMSE in 24069:END: {:.4f}'.format(rmse(oof_train[24069:], y_train[24069:])))"
   ]
  },
  {
   "cell_type": "code",
   "execution_count": 12,
   "id": "a47d21c3",
   "metadata": {},
   "outputs": [
    {
     "data": {
      "text/plain": [
       "Text(0, 0.5, 'actual')"
      ]
     },
     "execution_count": 12,
     "metadata": {},
     "output_type": "execute_result"
    },
    {
     "data": {
      "image/png": "[encoded data removed]",
      "text/plain": [
       "<Figure size 648x432 with 1 Axes>"
      ]
     },
     "metadata": {
      "needs_background": "light"
     },
     "output_type": "display_data"
    }
   ],
   "source": [
    "# checking actual vs. expected\n",
    "import matplotlib.pyplot as plt\n",
    "\n",
    "fig, ax = plt.subplots(figsize = (9, 6))\n",
    "ax.set_xscale(\"log\")\n",
    "ax.set_yscale(\"log\")\n",
    "\n",
    "plt.scatter(oof_train, y_train)\n",
    "plt.xlabel('pred')\n",
    "plt.ylabel('actual')"
   ]
  },
  {
   "cell_type": "code",
   "execution_count": 13,
   "id": "46dc0f36",
   "metadata": {},
   "outputs": [
    {
     "data": {
      "text/plain": [
       "Text(0, 0.5, 'actual')"
      ]
     },
     "execution_count": 13,
     "metadata": {},
     "output_type": "execute_result"
    },
    {
     "data": {
      "image/png": "[encoded data removed]",
      "text/plain": [
       "<Figure size 648x432 with 1 Axes>"
      ]
     },
     "metadata": {
      "needs_background": "light"
     },
     "output_type": "display_data"
    }
   ],
   "source": [
    "# checking actual vs. expected\n",
    "import matplotlib.pyplot as plt\n",
    "\n",
    "fig, ax = plt.subplots(figsize = (9, 6))\n",
    "ax.set_xscale(\"log\")\n",
    "ax.set_yscale(\"log\")\n",
    "\n",
    "plt.scatter(oof_train[0:24069], y_train[0:24069], alpha=0.2)\n",
    "plt.scatter(oof_train[24069:], y_train[24069:], alpha=0.2, color='red')\n",
    "plt.xlabel('pred')\n",
    "plt.ylabel('actual')"
   ]
  },
  {
   "cell_type": "markdown",
   "id": "8da527e2",
   "metadata": {},
   "source": [
    "# 6. Submission"
   ]
  },
  {
   "cell_type": "code",
   "execution_count": 14,
   "id": "fea8cafc",
   "metadata": {},
   "outputs": [],
   "source": [
    "# oof\n",
    "oof = pd.DataFrame()\n",
    "oof[ID] = id_train\n",
    "oof[TARGET] = oof_train\n",
    "oof.loc[oof[TARGET]<0, TARGET] = 0\n",
    "oof.to_csv(output_oof, index=False)"
   ]
  },
  {
   "cell_type": "code",
   "execution_count": 15,
   "id": "4d4d39f2",
   "metadata": {},
   "outputs": [],
   "source": [
    "### submission\n",
    "# not_in_train\n",
    "sub = pd.DataFrame()\n",
    "sub[ID] = id_test\n",
    "sub[TARGET] = oof_test\n",
    "\n",
    "# in_train\n",
    "sub = pd.concat([sub, test_in_train[[ID, TARGET]]], axis=0)\n",
    "sub = sub.sort_values(by=[ID])\n",
    "sub.loc[sub[TARGET]<0, TARGET] = 0\n",
    "\n",
    "# save\n",
    "sub.to_csv(output_sub, index=False)"
   ]
  },
  {
   "cell_type": "markdown",
   "id": "80b0184d",
   "metadata": {},
   "source": [
    "# ...END"
   ]
  }
 ],
 "metadata": {
  "kernelspec": {
   "display_name": "Python 3",
   "language": "python",
   "name": "python3"
  },
  "language_info": {
   "codemirror_mode": {
    "name": "ipython",
    "version": 3
   },
   "file_extension": ".py",
   "mimetype": "text/x-python",
   "name": "python",
   "nbconvert_exporter": "python",
   "pygments_lexer": "ipython3",
   "version": "3.9.12"
  }
 },
 "nbformat": 4,
 "nbformat_minor": 5
}
